{
 "cells": [
  {
   "cell_type": "markdown",
   "id": "8c8fde4c-9222-4265-b72b-8d7693520250",
   "metadata": {},
   "source": [
    "# Building NLP Applications with Hugging Face"
   ]
  },
  {
   "cell_type": "markdown",
   "id": "3e302e1c-4c18-4c44-87fd-ba935c3a0853",
   "metadata": {},
   "source": [
    "Welcome! In this project, you will be learning how to perform common Natural Language Processing (NLP) tasks using Hugging Face. Some of these tasks include:\n",
    "- **sentiment analysis** (i.e. categorizing text as negative or positive);\n",
    "- **text embedding** (i.e. transforming a piece of text into a numerical, n-dimensional vector, representation);\n",
    "- **semantic search** (i.e. matching a query with the most appropriate result based on embeddings);\n",
    "- and more!\n",
    "\n",
    "The dataset comes from \"Rent the Runway\" [link](https://cseweb.ucsd.edu//~jmcauley/datasets.html#clothing_fit) and is comprised of user reviews on clothing items, their ratings on fit, and other metadata about the user (i.e. gender, height, size, age, reason for renting) and the item (i.e. category). It is a nice mixture of data types, but most importantly, lots of text! \n",
    "\n",
    "In order to be successful, you should have:\n",
    "\n",
    "**Intermediate knowledge of Python**\n",
    "- list comprehension\n",
    "- for loops and while loops\n",
    "- installing packages\n",
    "- creating and using functions\n",
    "- using NumPy and Pandas\n",
    "\n",
    "**Basic understanding of NLP**\n",
    "- What it is\n",
    "- Data preparation steps and why they're important\n",
    "- Familiarity, though not necessarily expert proficiency, in some NLP tasks\n",
    "\n",
    "**Brief usage of Hugging Face**\n",
    "\n",
    "\n",
    "Most of all, you should have a curiosity about NLP workflows, specifically those in Hugging Face using transformers!"
   ]
  },
  {
   "cell_type": "markdown",
   "id": "a9274661-8d8c-4cc5-901e-5fc497866b89",
   "metadata": {},
   "source": [
    "## Task 0: Setup"
   ]
  },
  {
   "cell_type": "markdown",
   "id": "2cf847fd-f8f8-49f6-9b43-0eb098239072",
   "metadata": {},
   "source": [
    "For this project, we will need several Python packages:\n",
    "- `pandas`\n",
    "- `numpy`\n",
    "- `datetime`\n",
    "- `re`\n",
    "- `string`\n",
    "- `matplotlib.pyplot`\n",
    "- `seaborn`\n",
    "- `transformers`\n",
    "- `sentence_transformers`\n",
    "\n",
    "These packages will help us with the data preprocessing steps, visualization, and, of course, NLP tasks using Hugging Face (i.e. `transformers` and `sentence_transformers`)."
   ]
  },
  {
   "cell_type": "markdown",
   "id": "92a9caca-70fd-4ac0-aa15-1bee55c456d3",
   "metadata": {},
   "source": [
    "### Instructions"
   ]
  },
  {
   "cell_type": "markdown",
   "id": "b1fcd794-b29c-4010-8be0-651a452b2044",
   "metadata": {},
   "source": [
    "Import the following packages.\n",
    "\n",
    "- Import `re`, `datetime`, and `string`.\n",
    "- Import `pandas` using the alias `pd`.\n",
    "- Import `numpy` using the alias `np`.\n",
    "- Import `matplotlib.pyplot` using the alias `plt`.\n",
    "- From the `transformers` package, import `pipeline`.\n",
    "- From the `sentence_transformers` package, import `SentenceTransformer`.\n",
    "- From the `sentence_transformers.util` package, import `semantic_search`. \n",
    "- From the `IPython.display` package, import `display` and `Markdown`."
   ]
  },
  {
   "cell_type": "code",
   "execution_count": 3,
   "id": "f81d6d0e-986b-49f4-94e1-7315a7f0bd67",
   "metadata": {
    "executionCancelledAt": null,
    "executionTime": 10,
    "lastExecutedAt": 1744403816022,
    "lastExecutedByKernel": "a0715abe-680e-412f-bc52-b9917ae13588",
    "lastScheduledRunId": null,
    "lastSuccessfullyExecutedCode": "# Import the other required packages and modules.\nimport pandas as pd\nimport numpy as np\nimport datetime, re, string\nimport seaborn as sns\nimport matplotlib.pyplot as plt\nfrom transformers import pipeline\nfrom sentence_transformers import SentenceTransformer\nfrom sentence_transformers.util import semantic_search\n\n# From the IPython.display package, import display and Markdown\nfrom IPython.display import display, Markdown",
    "outputsMetadata": {
     "0": {
      "height": 117,
      "type": "stream"
     }
    }
   },
   "outputs": [],
   "source": [
    "# Import the other required packages and modules.\n",
    "import pandas as pd\n",
    "import numpy as np\n",
    "import datetime, re, string\n",
    "import seaborn as sns\n",
    "import matplotlib.pyplot as plt\n",
    "from transformers import pipeline\n",
    "from sentence_transformers import SentenceTransformer\n",
    "from sentence_transformers.util import semantic_search\n",
    "\n",
    "# From the IPython.display package, import display and Markdown\n",
    "from IPython.display import display, Markdown"
   ]
  },
  {
   "cell_type": "markdown",
   "id": "7f6c51c7-bbbb-4f0f-b218-850221f3dcdf",
   "metadata": {},
   "source": [
    "## Task 1: Import the Runway Data"
   ]
  },
  {
   "cell_type": "markdown",
   "id": "fce00845-9741-4979-91aa-e43ff0db5299",
   "metadata": {},
   "source": [
    "The runway data is contained in a CSV file named `runway.csv`.\n",
    "\n",
    "The dataset contains the following columns.\n",
    "\n",
    "- `user_id`: the unique identifier for the user.\n",
    "- `item_id`: the unique identifier for the item/product rented.\n",
    "- `rating`: the rating by the user.\n",
    "- `rented_for`: the reason the item was rented.\n",
    "- `review_text`: the actual text for the submitted user review.\n",
    "- `category`: the category of the item rented.\n",
    "- `height`: the height of the user in the format {feet}'{inches}\".\n",
    "- `size`: the size of the item rented by the user.\n",
    "- `age`: the age of the user.\n",
    "- `review_date`: the date the review was made by the user."
   ]
  },
  {
   "cell_type": "markdown",
   "id": "1b998f52-93c9-411c-ba74-473955de4b8e",
   "metadata": {},
   "source": [
    "### Instructions"
   ]
  },
  {
   "cell_type": "markdown",
   "id": "c19bfda1-fe9a-4344-9dd9-613d33598d21",
   "metadata": {},
   "source": [
    "Import the runway data to a pandas dataframe.\n",
    "\n",
    "- Read the data from `runway.csv`, making sure to parse the date column. |Assign to `runway`.\n",
    "- Print the column info"
   ]
  },
  {
   "cell_type": "code",
   "execution_count": 7,
   "id": "474d98a8-33ce-4898-a641-4853f17e5738",
   "metadata": {
    "executionCancelledAt": null,
    "executionTime": 152,
    "lastExecutedAt": 1744401808621,
    "lastExecutedByKernel": "a0715abe-680e-412f-bc52-b9917ae13588",
    "lastScheduledRunId": null,
    "lastSuccessfullyExecutedCode": "# Read the data from runway.csv\nrunway = pd.read_csv('runway.csv', parse_dates=['review_date'])",
    "outputsMetadata": {
     "0": {
      "height": 377,
      "type": "stream"
     }
    }
   },
   "outputs": [],
   "source": [
    "# Read the data from runway.csv\n",
    "runway = pd.read_csv('runway.csv', parse_dates=['review_date'])"
   ]
  },
  {
   "cell_type": "code",
   "execution_count": 8,
   "id": "2774c34c-fcd6-4a7f-8412-ff67650c7397",
   "metadata": {
    "executionCancelledAt": null,
    "executionTime": null,
    "lastExecutedAt": null,
    "lastExecutedByKernel": null,
    "lastScheduledRunId": null,
    "lastSuccessfullyExecutedCode": null,
    "outputsMetadata": {
     "0": {
      "height": 374,
      "type": "stream"
     }
    }
   },
   "outputs": [
    {
     "name": "stdout",
     "output_type": "stream",
     "text": [
      "<class 'pandas.core.frame.DataFrame'>\n",
      "RangeIndex: 1506 entries, 0 to 1505\n",
      "Data columns (total 10 columns):\n",
      " #   Column       Non-Null Count  Dtype         \n",
      "---  ------       --------------  -----         \n",
      " 0   user_id      1506 non-null   int64         \n",
      " 1   item_id      1506 non-null   int64         \n",
      " 2   rating       1506 non-null   int64         \n",
      " 3   rented for   1506 non-null   object        \n",
      " 4   review_text  1506 non-null   object        \n",
      " 5   category     1506 non-null   object        \n",
      " 6   height       1503 non-null   object        \n",
      " 7   size         1506 non-null   int64         \n",
      " 8   age          1500 non-null   float64       \n",
      " 9   review_date  1506 non-null   datetime64[ns]\n",
      "dtypes: datetime64[ns](1), float64(1), int64(4), object(4)\n",
      "memory usage: 117.8+ KB\n"
     ]
    }
   ],
   "source": [
    "# Print the column info\n",
    "runway.info()"
   ]
  },
  {
   "cell_type": "code",
   "execution_count": 9,
   "id": "7fe31603-6d1e-41df-a8f9-faa9a73e9019",
   "metadata": {
    "executionCancelledAt": null,
    "executionTime": 34,
    "lastExecutedAt": 1744401856603,
    "lastExecutedByKernel": "a0715abe-680e-412f-bc52-b9917ae13588",
    "lastScheduledRunId": null,
    "lastSuccessfullyExecutedCode": "display(runway.sample(5))",
    "outputsMetadata": {
     "0": {
      "height": 550,
      "tableState": {},
      "type": "dataFrame"
     }
    }
   },
   "outputs": [
    {
     "data": {
      "application/com.datacamp.data-table.v2+json": {
       "table": {
        "data": {
         "age": [
          48,
          29,
          28,
          30,
          28
         ],
         "category": [
          "dress",
          "dress",
          "sheath",
          "dress",
          "dress"
         ],
         "height": [
          "5' 8\"",
          "5' 6\"",
          "5' 8\"",
          "5' 4\"",
          "5' 6\""
         ],
         "index": [
          657,
          258,
          267,
          9,
          5
         ],
         "item_id": [
          126335,
          126335,
          1415952,
          859889,
          226072
         ],
         "rating": [
          10,
          4,
          10,
          8,
          10
         ],
         "rented for": [
          "formal affair",
          "party",
          "party",
          "wedding",
          "party"
         ],
         "review_date": [
          "2019-06-08T00:00:00.000",
          "2019-09-23T00:00:00.000",
          "2021-12-04T00:00:00.000",
          "2021-07-13T00:00:00.000",
          "2020-05-06T00:00:00.000"
         ],
         "review_text": [
          "i normally wear abut ended up wearing thei amandlbs and d thewas too big thru the hipsthe zipper was impossible to zipbut i found that if i put it on backwards and then turned it around it worked",
          "im one of those women that think everyone will look great on them and then i get it home and gowow thats a lot of sequinsthats exactly what happened hereit was beautiful in the bag all golden and glittery but when i put it on it was just too much for methe fabric at the shoulder is a little bunchy and i thought the combination of the bunchy fabric the sequins and the color just made me look broadalso the sequins were a little chafey in the upper armsi just wasnt crazy about how it looked when i was wearing iti had full makeup and hair done and i still didnt feel pretty in it and thats the whole point rightsent it back without wearing it out",
          "hey you stop looking youve found the dress youre looking for this is tops quality matches priceabout me i amandlbs i have an athletic body longer torso shorter legsre fit stretch because there is no stretch it this at all this fits true to size so if you are agirl like me order thewhereas if youre agirl and youve been watching those sweets for a couple weeks then youll be able to wear thei ordered bothi was worried i wouldnt be able to sit in this but i was able to sit just fine in both theandi was worried that the sleeves wouldnt fit my arms i do back bi and chest tri every week yet the sleeves were fit perfectlyre length sexiness i felt that the dress was appropriately long by todays trends most gals would say its way too long and in fact it would probably be too long for a petite woman however for my bridal shower it really made a lovely statement by being sexy with its illusion top and glittery burnt rose gold without being too sexy appropriate length covered chestfrom the pictures you can tell that i am very very very pale the illusion netting was a different color from my skin but i didnt mind one bit if thats a concern of yours you can always wear panty hose to matchre accessories i wore dainty drop pink pearl earrings and matching bracelet and my engagement ring my shoes were plain nude peeptoe pumps\n",
          "the fit of this dress runs small imlbs and typically wear a sizei ordered aand thewasnt even close to being able to zip up ended up wearing theand it was still snug i would recommend sizing up with this dress cut and color are beautiful and classy fabric is thick and hides your flaws would love to buy this dress",
          "thefit better in the chest but it was too loose in the waist but thefit perfectly in the waist"
         ],
         "size": [
          4,
          39,
          8,
          16,
          4
         ],
         "user_id": [
          383116,
          415272,
          704778,
          22414,
          307791
         ]
        },
        "schema": {
         "fields": [
          {
           "name": "index",
           "type": "integer"
          },
          {
           "name": "user_id",
           "type": "integer"
          },
          {
           "name": "item_id",
           "type": "integer"
          },
          {
           "name": "rating",
           "type": "integer"
          },
          {
           "name": "rented for",
           "type": "string"
          },
          {
           "name": "review_text",
           "type": "string"
          },
          {
           "name": "category",
           "type": "string"
          },
          {
           "name": "height",
           "type": "string"
          },
          {
           "name": "size",
           "type": "integer"
          },
          {
           "name": "age",
           "type": "number"
          },
          {
           "name": "review_date",
           "type": "datetime"
          }
         ],
         "pandas_version": "1.4.0",
         "primaryKey": [
          "index"
         ]
        }
       },
       "total_rows": 5,
       "truncation_type": null
      },
      "text/html": [
       "<div>\n",
       "<style scoped>\n",
       "    .dataframe tbody tr th:only-of-type {\n",
       "        vertical-align: middle;\n",
       "    }\n",
       "\n",
       "    .dataframe tbody tr th {\n",
       "        vertical-align: top;\n",
       "    }\n",
       "\n",
       "    .dataframe thead th {\n",
       "        text-align: right;\n",
       "    }\n",
       "</style>\n",
       "<table border=\"1\" class=\"dataframe\">\n",
       "  <thead>\n",
       "    <tr style=\"text-align: right;\">\n",
       "      <th></th>\n",
       "      <th>user_id</th>\n",
       "      <th>item_id</th>\n",
       "      <th>rating</th>\n",
       "      <th>rented for</th>\n",
       "      <th>review_text</th>\n",
       "      <th>category</th>\n",
       "      <th>height</th>\n",
       "      <th>size</th>\n",
       "      <th>age</th>\n",
       "      <th>review_date</th>\n",
       "    </tr>\n",
       "  </thead>\n",
       "  <tbody>\n",
       "    <tr>\n",
       "      <th>657</th>\n",
       "      <td>383116</td>\n",
       "      <td>126335</td>\n",
       "      <td>10</td>\n",
       "      <td>formal affair</td>\n",
       "      <td>i normally wear abut ended up wearing thei ama...</td>\n",
       "      <td>dress</td>\n",
       "      <td>5' 8\"</td>\n",
       "      <td>4</td>\n",
       "      <td>48.0</td>\n",
       "      <td>2019-06-08</td>\n",
       "    </tr>\n",
       "    <tr>\n",
       "      <th>258</th>\n",
       "      <td>415272</td>\n",
       "      <td>126335</td>\n",
       "      <td>4</td>\n",
       "      <td>party</td>\n",
       "      <td>im one of those women that think everyone will...</td>\n",
       "      <td>dress</td>\n",
       "      <td>5' 6\"</td>\n",
       "      <td>39</td>\n",
       "      <td>29.0</td>\n",
       "      <td>2019-09-23</td>\n",
       "    </tr>\n",
       "    <tr>\n",
       "      <th>267</th>\n",
       "      <td>704778</td>\n",
       "      <td>1415952</td>\n",
       "      <td>10</td>\n",
       "      <td>party</td>\n",
       "      <td>hey you stop looking youve found the dress you...</td>\n",
       "      <td>sheath</td>\n",
       "      <td>5' 8\"</td>\n",
       "      <td>8</td>\n",
       "      <td>28.0</td>\n",
       "      <td>2021-12-04</td>\n",
       "    </tr>\n",
       "    <tr>\n",
       "      <th>9</th>\n",
       "      <td>22414</td>\n",
       "      <td>859889</td>\n",
       "      <td>8</td>\n",
       "      <td>wedding</td>\n",
       "      <td>the fit of this dress runs small imlbs and typ...</td>\n",
       "      <td>dress</td>\n",
       "      <td>5' 4\"</td>\n",
       "      <td>16</td>\n",
       "      <td>30.0</td>\n",
       "      <td>2021-07-13</td>\n",
       "    </tr>\n",
       "    <tr>\n",
       "      <th>5</th>\n",
       "      <td>307791</td>\n",
       "      <td>226072</td>\n",
       "      <td>10</td>\n",
       "      <td>party</td>\n",
       "      <td>thefit better in the chest but it was too loos...</td>\n",
       "      <td>dress</td>\n",
       "      <td>5' 6\"</td>\n",
       "      <td>4</td>\n",
       "      <td>28.0</td>\n",
       "      <td>2020-05-06</td>\n",
       "    </tr>\n",
       "  </tbody>\n",
       "</table>\n",
       "</div>"
      ],
      "text/plain": [
       "     user_id  item_id  rating     rented for  ... height size   age  review_date\n",
       "657   383116   126335      10  formal affair  ...  5' 8\"    4  48.0   2019-06-08\n",
       "258   415272   126335       4          party  ...  5' 6\"   39  29.0   2019-09-23\n",
       "267   704778  1415952      10          party  ...  5' 8\"    8  28.0   2021-12-04\n",
       "9      22414   859889       8        wedding  ...  5' 4\"   16  30.0   2021-07-13\n",
       "5     307791   226072      10          party  ...  5' 6\"    4  28.0   2020-05-06\n",
       "\n",
       "[5 rows x 10 columns]"
      ]
     },
     "metadata": {
      "application/com.datacamp.data-table.v2+json": {
       "status": "success"
      }
     },
     "output_type": "display_data"
    }
   ],
   "source": [
    "display(runway.sample(5))"
   ]
  },
  {
   "cell_type": "markdown",
   "id": "65454beb-970f-4af6-a04c-798b9f665b6f",
   "metadata": {},
   "source": [
    "## Task 2: Preprocessing the `review_text`"
   ]
  },
  {
   "cell_type": "markdown",
   "id": "26fb43b1-9455-456e-a674-34b58e2faae2",
   "metadata": {},
   "source": [
    "Most unstructured text, such as reviews for products, are messy. They contain special characters which may not be necessary, extra spaces, irrelevant digits, and more. Therefore, it is common practice to process, or clean, the text before performing NLP tasks on it.\n",
    "\n",
    "You will create several processing steps for the `review_text` strings.\n",
    "\n",
    "Note: there may be some instances where special characters, digits, and the like are important to the meaning, or context, of the sentence. It's best to think through the implications of such preprocessing steps before blindly doing so.\n",
    "\n",
    "Also note: some Pythonistas will say preprocessing text before using transformers, such as those from Hugging Face, is unnecessary. We will explore this in the following tasks. "
   ]
  },
  {
   "cell_type": "markdown",
   "id": "0134cdbf-1fc6-46fc-8075-6211db727739",
   "metadata": {},
   "source": [
    "### Instructions"
   ]
  },
  {
   "cell_type": "markdown",
   "id": "ec2a3334-8917-41cb-9300-3977744e702b",
   "metadata": {},
   "source": [
    "Create several steps that will preprocess the text for the following areas:\n",
    "- replace the special character \"/\" with a space;\n",
    "- remove punctuations;\n",
    "- remove digits;\n",
    "- replace runs of whitespace, i.e. more than one in a row, with no space; and\n",
    "- make lowercase.\n",
    "\n",
    "Apply these changes to the `review_text` column in the `runway` dataset. \n",
    "\n",
    "Save as `review_text_cleaned`."
   ]
  },
  {
   "cell_type": "code",
   "execution_count": 11,
   "id": "f2fbaec7-4ce3-4701-bb16-d0034c83d3c7",
   "metadata": {
    "executionCancelledAt": null,
    "executionTime": 35,
    "lastExecutedAt": 1744402361057,
    "lastExecutedByKernel": "a0715abe-680e-412f-bc52-b9917ae13588",
    "lastScheduledRunId": null,
    "lastSuccessfullyExecutedCode": "# save clean text in new column\n# Remove the forward-slash character\nrunway['review_text_cleaned'] = runway['review_text'].str.replace(r\"\\/\", \"\")\n\n# Remove punctuation\nrunway['review_text_cleaned'] = runway['review_text'].str.translate(string.punctuation)\n\n# Remove digits\nrunway['review_text_cleaned'] = runway['review_text'].str.replace(r\"\\d+\", \"\")\n\n# Remove running spaces, two or more spaces. single spaces are ok\nrunway['review_text_cleaned'] = runway['review_text'].str.replace(r\"\\s{2,}\", \"\")\n\n# Make the text lowercase\nrunway['review_text_cleaned'] = runway['review_text'].str.lower()"
   },
   "outputs": [],
   "source": [
    "# save clean text in new column\n",
    "# Remove the forward-slash character\n",
    "runway['review_text_cleaned'] = runway['review_text'].str.replace(r\"\\/\", \"\")\n",
    "\n",
    "# Remove punctuation\n",
    "runway['review_text_cleaned'] = runway['review_text'].str.translate(string.punctuation)\n",
    "\n",
    "# Remove digits\n",
    "runway['review_text_cleaned'] = runway['review_text'].str.replace(r\"\\d+\", \"\")\n",
    "\n",
    "# Remove running spaces, two or more spaces. single spaces are ok\n",
    "runway['review_text_cleaned'] = runway['review_text'].str.replace(r\"\\s{2,}\", \"\")\n",
    "\n",
    "# Make the text lowercase\n",
    "runway['review_text_cleaned'] = runway['review_text'].str.lower()"
   ]
  },
  {
   "cell_type": "markdown",
   "id": "b9232a26-7d75-4430-9614-94cb9eb7ced4",
   "metadata": {},
   "source": [
    "## Task 3: Sentiment Analysis on `review_text_cleaned`"
   ]
  },
  {
   "cell_type": "markdown",
   "id": "2ced1e75-77d5-4eb4-b288-3c958cb9dae0",
   "metadata": {},
   "source": [
    "Great! The review text is now clean from extraneous characters. You are ready to start performing some NLP tasks!\n",
    "\n",
    "You will start with sentiment analysis, or the categorizing of text into two buckets - negative or positive. Some models on Hugging Face have the ability to categorize text as neutral as well. \n",
    "\n",
    "Sentiment analysis is a common, and useful, NLP task performed in a typical business settings. It can help decision makers determine trends in product or service perception, customer experience, reviews, and more. It can also act as a starting point for deeper analysis.\n",
    "\n",
    "In this task, you will use the `pipeline()` function with the [\"distilbert-base-uncased-finetuned-sst-2-english\"](https://huggingface.co/distilbert-base-uncased-finetuned-sst-2-english) model. This is a smaller general-purpose language representation model that is great at text classification (i.e. sentiment analysis)."
   ]
  },
  {
   "cell_type": "markdown",
   "id": "b64033a6-06f9-4483-a659-0d60f862da4a",
   "metadata": {},
   "source": [
    "### Instructions"
   ]
  },
  {
   "cell_type": "markdown",
   "id": "bbf22268-0367-42fc-9a3c-c05e8990cbb0",
   "metadata": {},
   "source": [
    "The `pipeline()` function can help you achieve this.\n",
    "\n",
    "- Instantiate a new pipeline object for `sentiment-analysis`. Save as `sentimentAnalysis`.\n",
    "- Use this with a list of the cleaned review text as the input to return sentiment for each review. Save the output as `sent_analysis_output`."
   ]
  },
  {
   "cell_type": "markdown",
   "id": "6f46ec17-d89b-4440-b985-238ab7b7acca",
   "metadata": {},
   "source": [
    "Note that this task is computationally intensive and may take several minutes to run. It runs faster in Premium Workspace."
   ]
  },
  {
   "cell_type": "code",
   "execution_count": 15,
   "id": "c7e0cbb2-63c8-46d7-9596-047e3a56f4a7",
   "metadata": {
    "collapsed": false,
    "executionCancelledAt": null,
    "executionTime": 423050,
    "jupyter": {
     "outputs_hidden": false,
     "source_hidden": false
    },
    "lastExecutedAt": 1744403354246,
    "lastExecutedByKernel": "a0715abe-680e-412f-bc52-b9917ae13588",
    "lastScheduledRunId": null,
    "lastSuccessfullyExecutedCode": "model = \"distilbert-base-uncased-finetuned-sst-2-english\"\n\n# Instantiate the new pipeline() object for sentiment analysis. Include the model defined above as the model input.\nsentimentAnalysis = pipeline('sentiment-analysis', model=model)\n\n# Run sentiment analysis on the cleaned review text. Must be on a list\nsent_analysis_output = sentimentAnalysis(list(runway['review_text_cleaned']))",
    "outputsMetadata": {
     "0": {
      "height": 134,
      "type": "stream"
     },
     "4": {
      "height": 76,
      "type": "stream"
     }
    }
   },
   "outputs": [],
   "source": [
    "model = \"distilbert-base-uncased-finetuned-sst-2-english\"\n",
    "\n",
    "# Instantiate the new pipeline() object for sentiment analysis. Include the model defined above as the model input.\n",
    "sentimentAnalysis = pipeline('sentiment-analysis', model=model)\n",
    "\n",
    "# Run sentiment analysis on the cleaned review text. Must be on a list\n",
    "sent_analysis_output = sentimentAnalysis(list(runway['review_text_cleaned']))"
   ]
  },
  {
   "cell_type": "markdown",
   "id": "8c36bf1a-f916-4fcd-b335-492621df9a2d",
   "metadata": {},
   "source": [
    "## Task 4: Histogram of Sentiment Score"
   ]
  },
  {
   "cell_type": "markdown",
   "id": "f29a4b73-3939-4722-87dd-b495f271e5a5",
   "metadata": {},
   "source": [
    "Well, that was straightfoward, yeah?\n",
    "\n",
    "As I'm sure you're aware by now, Hugging Face hosts a lot of models which can be employed for a variety of NLP tasks. The sentiment analysis pipeline above used the default model, but you can use any available model to suit your data (as long as they are in the [model hub](https://huggingface.co/models)). For example, [FashionClip](https://huggingface.co/patrickjohncyh/fashion-clip) is a model trained specifically for fashion-related datasets - such as this one - and tasks.\n",
    "\n",
    "On a related note, the [`pipeline()` module](https://huggingface.co/docs/transformers/main_classes/pipelines#pipelines) is quite versatile as well! It encapsulates multiple transformer pipelines including NLP, computer vision, audio, and multi-modal. Within NLP alone, it covers 12 different tasks such as sentiment analysis (listed as \"Text Classification\"), Named Entity Recognition, Summarization, Conversations, and Q & A.\n",
    "\n",
    "We encourage you to further explore this powerful tool."
   ]
  },
  {
   "cell_type": "markdown",
   "id": "e2623c92-aef5-4685-839c-348bf473ac38",
   "metadata": {},
   "source": [
    "Now, you're going to understand the distribution of the sentiment of review texts via a histogram. This will give you an overall understanding of the reviews specifically how customers viewed their rented items."
   ]
  },
  {
   "cell_type": "markdown",
   "id": "b0ae965b-4d70-4c1c-94a4-afc316a5d64f",
   "metadata": {},
   "source": [
    "### Instructions"
   ]
  },
  {
   "cell_type": "markdown",
   "id": "0a44e3ae-1b61-4184-8581-1b667859e115",
   "metadata": {},
   "source": [
    "- Parse the output of `sent_analysis_output` into two new columns - `clean_sentiment_category` and `clean_sentiment_score`.\n",
    "- Use `seaborn` and the new sentiment score column to create a histogram. Set the number of bins to 20.\n",
    "- Add a title, \"Distribution of Sentiment Score\", subtitle - \"For Clean Review Text\" - and x and y labels."
   ]
  },
  {
   "cell_type": "code",
   "execution_count": 18,
   "id": "139363ce-e293-4a07-9755-40ab1ecbc5e7",
   "metadata": {
    "executionCancelledAt": null,
    "executionTime": 398,
    "lastExecutedAt": 1744403823091,
    "lastExecutedByKernel": "a0715abe-680e-412f-bc52-b9917ae13588",
    "lastScheduledRunId": null,
    "lastSuccessfullyExecutedCode": "# Parse out the two pieces of output from sent_analysis_output - \"label\" and \"score\".\nrunway['clean_sentiment_category'] = [s['label'] for s in sent_analysis_output]\nrunway['clean_sentiment_score'] = [s['score'] for s in sent_analysis_output]\n\n# Create the first histogram using the built-in Pandas histogram method.\nsns.histplot(data=runway, x='clean_sentiment_score', bins=20)\nplt.title('Distribution of Sentiment score')\nplt.xlabel('Score')\nplt.ylabel('Reviews')\nplt.show()\n"
   },
   "outputs": [
    {
     "data": {
      "image/png": "[encoded data removed]",
      "text/plain": [
       "<Figure size 640x480 with 1 Axes>"
      ]
     },
     "metadata": {
      "image/png": {
       "height": 453,
       "width": 576
      }
     },
     "output_type": "display_data"
    }
   ],
   "source": [
    "# Parse out the two pieces of output from sent_analysis_output - \"label\" and \"score\".\n",
    "runway['clean_sentiment_category'] = [s['label'] for s in sent_analysis_output]\n",
    "runway['clean_sentiment_score'] = [s['score'] for s in sent_analysis_output]\n",
    "\n",
    "# Create the first histogram using the built-in Pandas histogram method.\n",
    "sns.histplot(data=runway, x='clean_sentiment_score', bins=20)\n",
    "plt.title('Distribution of Sentiment score')\n",
    "plt.xlabel('Score')\n",
    "plt.ylabel('Reviews')\n",
    "plt.show()\n"
   ]
  },
  {
   "cell_type": "markdown",
   "id": "0b7906f8-b31c-48a1-9c4f-4482f1e7ccfd",
   "metadata": {},
   "source": [
    "## Task 5: Sentiment Over the Years"
   ]
  },
  {
   "cell_type": "markdown",
   "id": "b7e07c3b-dfa9-4372-957e-ad6293a53634",
   "metadata": {},
   "source": [
    "The distribution is informative from a global perspective - i.e., the reviews skew positive (\"great customer experience\"). However, it doesn't tell a complete story.\n",
    "\n",
    "Now that you have sentiment, you can explore the trends of sentiment across different facets of the data (i.e. over time, between products, etc.). Dissecting the data in this way, based on the business questions of interest, will explain more about what is going well and what needs improvement."
   ]
  },
  {
   "cell_type": "markdown",
   "id": "739ffeec-2467-4132-b9e5-678820cbcc1d",
   "metadata": {},
   "source": [
    "### Instructions"
   ]
  },
  {
   "cell_type": "markdown",
   "id": "372472c6-ffa7-46f5-9af2-6a81c636e3ff",
   "metadata": {},
   "source": [
    "In this task, you'll explore how sentiment changed over the years through a bar plot visualization. Feel free to explore other facets as well, if interested.\n",
    "\n",
    "- Create a new column called `year`.\n",
    "- Count the number of reviews by `year` and `clean_sentiment_category`. Save as `chart_data`.\n",
    "- Visualize the count of reviews using a seaborn `.barplot()`.\n",
    "- Add an appropriate title and axes labels."
   ]
  },
  {
   "cell_type": "code",
   "execution_count": 20,
   "id": "0676f32e-4167-46ad-b4ad-03b6291eaef0",
   "metadata": {
    "executionCancelledAt": null,
    "executionTime": 286,
    "lastExecutedAt": 1744404603940,
    "lastExecutedByKernel": "a0715abe-680e-412f-bc52-b9917ae13588",
    "lastScheduledRunId": null,
    "lastSuccessfullyExecutedCode": "# Create a new column called \"year\" which is the year of the \"review_date\".\nrunway['year'] = runway['review_date'].dt.year\n\n# Create a new dataframe of review counts by \"year\" and \"cleaned_sentiment_category\".\nchart_data = runway.groupby(['year', 'clean_sentiment_category'], as_index=False)['user_id'].count()\nchart_data.columns = ['year', 'clean_sentiment_category', 'cnt']\n# Create a bar plot showing the count of reviews for each sentiment category over the years.\nsns.barplot(data=chart_data, x='year', y='cnt', hue='clean_sentiment_category', errorbar=None)\nplt.title('Sentiment accross the years')\nplt.xlabel('year')\nplt.ylabel('Reviews count')\nplt.show()"
   },
   "outputs": [
    {
     "data": {
      "image/png": "[encoded data removed]",
      "text/plain": [
       "<Figure size 640x480 with 1 Axes>"
      ]
     },
     "metadata": {
      "image/png": {
       "height": 453,
       "width": 570
      }
     },
     "output_type": "display_data"
    }
   ],
   "source": [
    "# Create a new column called \"year\" which is the year of the \"review_date\".\n",
    "runway['year'] = runway['review_date'].dt.year\n",
    "\n",
    "# Create a new dataframe of review counts by \"year\" and \"cleaned_sentiment_category\".\n",
    "chart_data = runway.groupby(['year', 'clean_sentiment_category'], as_index=False)['user_id'].count()\n",
    "chart_data.columns = ['year', 'clean_sentiment_category', 'cnt']\n",
    "# Create a bar plot showing the count of reviews for each sentiment category over the years.\n",
    "sns.barplot(data=chart_data, x='year', y='cnt', hue='clean_sentiment_category', errorbar=None)\n",
    "plt.title('Sentiment accross the years')\n",
    "plt.xlabel('year')\n",
    "plt.ylabel('Reviews count')\n",
    "plt.show()"
   ]
  },
  {
   "cell_type": "markdown",
   "id": "cc58cd00-96a6-4d06-b4d0-ecaaa10223ac",
   "metadata": {},
   "source": [
    "## Task 6: Does Cleaning Text Matter?"
   ]
  },
  {
   "cell_type": "markdown",
   "id": "6cd73b32-fec8-447e-8e79-8172acfb4837",
   "metadata": {},
   "source": [
    "Wow - that's quite a set of positive reviews! It seems like the amount of positive reviews increased dramatically in 2021. Potentially a revamp of the customer experience, product quality, more customers, or something else we don't have data for. \n",
    "\n",
    "From a business context, digging into the common words/n-grams of the positive reviews can be revealing as to what customers love about the products. Doing the same for the negative reviews can be just as informative for what they don't love (i.e. sizing issues, rental service, etc.). \n",
    "\n",
    "We will look into that soon. But first, let's test the previous comment on preprocessing text. Does it matter for sentiment analysis?\n",
    "\n",
    "In this task, you will build another sentiment analysis pipeline but, in this case, for the non-cleaned `review_text`. Then, you will compare the output from the two pipelines to understand if the cleaning made a difference in categorizing sentiment."
   ]
  },
  {
   "cell_type": "markdown",
   "id": "bc76cf7d-9293-415c-9add-d0b51a238680",
   "metadata": {},
   "source": [
    "### Instructions"
   ]
  },
  {
   "cell_type": "markdown",
   "id": "d0abb3d1-1916-465e-932a-77e058726172",
   "metadata": {},
   "source": [
    "- Duplicate the steps from the previous exercise to run a sentiment analysis pipeline. Save as `sent_analysis_2`.\n",
    "- Parse the output and save as `sentiment_category` and `sentiment_score`.\n",
    "- Create a confusion matrix using `pd.crosstab()` comparing the output of `clean_sentiment_category` and `sentiment_category`."
   ]
  },
  {
   "cell_type": "markdown",
   "id": "cda1637e-fc3e-4990-8101-93bdd1659bff",
   "metadata": {},
   "source": [
    "Note that this task is computationally intensive and may take several minutes to run. It runs faster in Premium Workspace."
   ]
  },
  {
   "cell_type": "code",
   "execution_count": 22,
   "id": "b492e23f-eef1-4919-8052-fdb625c6333d",
   "metadata": {
    "chartConfig": {
     "bar": {
      "hasRoundedCorners": true,
      "stacked": false
     },
     "type": "bar",
     "version": "v1"
    },
    "collapsed": false,
    "executionCancelledAt": null,
    "executionTime": 435992,
    "jupyter": {
     "outputs_hidden": false,
     "source_hidden": false
    },
    "lastExecutedAt": 1744406074842,
    "lastExecutedByKernel": "a0715abe-680e-412f-bc52-b9917ae13588",
    "lastScheduledRunId": null,
    "lastSuccessfullyExecutedCode": "# Create a new sentiment analysis output for \"review_text\".\nsent_analysis_2 = sentimentAnalysis(list(runway['review_text']))\n\n# Parse the output into \"sentiment_category\" and \"sentiment_score\".\nrunway['sentiment_category'] = [s['label'] for s in sent_analysis_2]\nrunway['sentiment_score'] = [s['score'] for s in sent_analysis_2]\n# Print the confusion matrix comparing the two sentiment category outputs.\ndisplay(pd.crosstab(runway['clean_sentiment_category'], runway['sentiment_category']))",
    "outputsMetadata": {
     "0": {
      "chartState": {
       "chartModel": {
        "cellRange": {
         "columns": [],
         "rowEndIndex": null,
         "rowStartIndex": null
        },
        "chartId": "6dtkycljr7r",
        "chartOptions": {
         "bar": {
          "axes": {},
          "legend": {
           "enabled": false
          }
         }
        },
        "chartType": "groupedColumn",
        "modelType": "range"
       },
       "conversionErrors": [
        "invalid-axis-config"
       ],
       "pivotMode": {
        "enabled": false
       },
       "rangeChartModel": {
        "rangeColumns": []
       },
       "sharedChartOptions": {
        "bar": {
         "axes": {},
         "legend": {
          "enabled": false
         }
        }
       }
      },
      "height": 50,
      "tableState": {
       "customFilter": {
        "const": {
         "type": "boolean",
         "valid": true,
         "value": true
        },
        "id": "c216f9c0-b3e2-4692-b12c-540591b9a998",
        "nodeType": "const"
       }
      },
      "type": "dataFrame"
     }
    },
    "version": "ag-charts-v1",
    "visualizeDataframe": false
   },
   "outputs": [
    {
     "data": {
      "application/com.datacamp.data-table.v2+json": {
       "table": {
        "data": {
         "NEGATIVE": [
          375,
          0
         ],
         "POSITIVE": [
          0,
          1131
         ],
         "clean_sentiment_category": [
          "NEGATIVE",
          "POSITIVE"
         ]
        },
        "schema": {
         "fields": [
          {
           "name": "clean_sentiment_category",
           "type": "string"
          },
          {
           "name": "NEGATIVE",
           "type": "integer"
          },
          {
           "name": "POSITIVE",
           "type": "integer"
          }
         ],
         "pandas_version": "1.4.0",
         "primaryKey": [
          "clean_sentiment_category"
         ]
        }
       },
       "total_rows": 2,
       "truncation_type": null
      },
      "text/html": [
       "<div>\n",
       "<style scoped>\n",
       "    .dataframe tbody tr th:only-of-type {\n",
       "        vertical-align: middle;\n",
       "    }\n",
       "\n",
       "    .dataframe tbody tr th {\n",
       "        vertical-align: top;\n",
       "    }\n",
       "\n",
       "    .dataframe thead th {\n",
       "        text-align: right;\n",
       "    }\n",
       "</style>\n",
       "<table border=\"1\" class=\"dataframe\">\n",
       "  <thead>\n",
       "    <tr style=\"text-align: right;\">\n",
       "      <th>sentiment_category</th>\n",
       "      <th>NEGATIVE</th>\n",
       "      <th>POSITIVE</th>\n",
       "    </tr>\n",
       "    <tr>\n",
       "      <th>clean_sentiment_category</th>\n",
       "      <th></th>\n",
       "      <th></th>\n",
       "    </tr>\n",
       "  </thead>\n",
       "  <tbody>\n",
       "    <tr>\n",
       "      <th>NEGATIVE</th>\n",
       "      <td>375</td>\n",
       "      <td>0</td>\n",
       "    </tr>\n",
       "    <tr>\n",
       "      <th>POSITIVE</th>\n",
       "      <td>0</td>\n",
       "      <td>1131</td>\n",
       "    </tr>\n",
       "  </tbody>\n",
       "</table>\n",
       "</div>"
      ],
      "text/plain": [
       "sentiment_category        NEGATIVE  POSITIVE\n",
       "clean_sentiment_category                    \n",
       "NEGATIVE                       375         0\n",
       "POSITIVE                         0      1131"
      ]
     },
     "metadata": {
      "application/com.datacamp.data-table.v2+json": {
       "status": "success"
      }
     },
     "output_type": "display_data"
    }
   ],
   "source": [
    "# Create a new sentiment analysis output for \"review_text\".\n",
    "sent_analysis_2 = sentimentAnalysis(list(runway['review_text']))\n",
    "\n",
    "# Parse the output into \"sentiment_category\" and \"sentiment_score\".\n",
    "runway['sentiment_category'] = [s['label'] for s in sent_analysis_2]\n",
    "runway['sentiment_score'] = [s['score'] for s in sent_analysis_2]\n",
    "# Print the confusion matrix comparing the two sentiment category outputs.\n",
    "display(pd.crosstab(runway['clean_sentiment_category'], runway['sentiment_category']))"
   ]
  },
  {
   "cell_type": "markdown",
   "id": "127a022a-dc2a-454f-bb90-b6bbfc24e3c6",
   "metadata": {},
   "source": [
    "Based on the previous results, the sentiment of the review was pretty much the same with cleaned text. Good for us! We can use the original text to perform further analysis. Again, this is situation dependent, so be sure to think through the benefits of cleaning vs. leaving the text as is. \n",
    "\n",
    "Transformers, such as those on Hugging Face, are a component of machine learning / deep learning models which are designed to learn sequential data. Using a concept known as \"self-attention\", they use other tokens (words) in the sequence (sentence) to build an understanding of a specific token (word).\n",
    "\n",
    "All of this to say (in a simplified manner) transformers, specifically those trained on VERY large datasets, work well on unstructured, un-cleaned text because it takes the whole sentence into context. And every piece adds to that context [see BERT paper here that argues this point](https://arxiv.org/pdf/1904.07531.pdf).\n",
    "\n",
    "This can be particularly powerful from 1) a time-savings perspective and 2) enabling more unstructured text to be leveraged. With less hassle of data preparation, more data can be used to make decisions. Again, make sure you evaluate the use case and determine if the NLP results are meeting performance expectations."
   ]
  },
  {
   "cell_type": "markdown",
   "id": "a8a780ba-d690-4fcc-90d3-3e73e1419d50",
   "metadata": {},
   "source": [
    "## Task 7: Embeddings"
   ]
  },
  {
   "cell_type": "markdown",
   "id": "1f83e998-9102-4444-99f0-cfa31fc8086c",
   "metadata": {},
   "source": [
    "In the next task, we will switch gears to exploring another common use case for Hugging Face and transformers - text embeddings. \n",
    "\n",
    "Embeddings, in a very simplistic definition, are a vector (numerical) representation of something within n-dimensions. In this case, they are text embeddings. (Note: each transformer model will have a different number of dimensions for its results). Embeddings are useful because they represent human language to computers which enables a more sophisticated execution of similarity, text generation, semantic search, and the like. This can be extremely valuable for business tasks such as recommendations and searching within websites or products.\n",
    "\n",
    "You will now try this out on the `rented for` column using the `sentence_transformer` [package](https://huggingface.co/sentence-transformers). The model you'll use is the BERT-based [\"all-MiniLM-L6-v2\" model](https://huggingface.co/sentence-transformers/all-MiniLM-L6-v2) which transformer that maps sentences and paragraphs to an n-dimensional vector."
   ]
  },
  {
   "cell_type": "markdown",
   "id": "8dcf92e5-2960-47bf-a002-7485f9222d6f",
   "metadata": {},
   "source": [
    "### Instructions"
   ]
  },
  {
   "cell_type": "markdown",
   "id": "d2413472-8707-4d57-9df5-ad76e352fa60",
   "metadata": {},
   "source": [
    "- Instantiate a new instance of `SentenceTransformer` using the specified model (`model_id`). Save as `model`.\n",
    "- Generate an embedding for each review text using `model.encode()`. Save as `embeddings`.\n",
    "- Print the shape of the new embeddings array."
   ]
  },
  {
   "cell_type": "code",
   "execution_count": 23,
   "id": "7bd6abe6-54a7-4bc5-8d6d-8d3d99fb3598",
   "metadata": {
    "collapsed": true,
    "executionCancelledAt": null,
    "executionTime": null,
    "jupyter": {
     "outputs_hidden": true,
     "source_hidden": false
    },
    "lastExecutedAt": null,
    "lastExecutedByKernel": null,
    "lastScheduledRunId": null,
    "lastSuccessfullyExecutedCode": null,
    "outputsMetadata": {
     "0": {
      "height": 37,
      "type": "stream"
     },
     "14": {
      "height": 37,
      "type": "stream"
     },
     "28": {
      "height": 38,
      "type": "stream"
     }
    }
   },
   "outputs": [
    {
     "data": {
      "application/json": {
       "ascii": false,
       "bar_format": null,
       "colour": null,
       "elapsed": 0.007634639739990234,
       "initial": 0,
       "n": 0,
       "ncols": null,
       "nrows": null,
       "postfix": null,
       "prefix": "Downloading",
       "rate": null,
       "total": 1229,
       "unit": "B",
       "unit_divisor": 1000,
       "unit_scale": true
      },
      "application/vnd.jupyter.widget-view+json": {
       "model_id": "b54bfb03797143f2a8cccb0a3dc7d608",
       "version_major": 2,
       "version_minor": 0
      },
      "text/plain": [
       "Downloading:   0%|          | 0.00/1.23k [00:00<?, ?B/s]"
      ]
     },
     "metadata": {},
     "output_type": "display_data"
    },
    {
     "data": {
      "application/json": {
       "ascii": false,
       "bar_format": null,
       "colour": null,
       "elapsed": 0.009198188781738281,
       "initial": 0,
       "n": 0,
       "ncols": null,
       "nrows": null,
       "postfix": null,
       "prefix": "Downloading",
       "rate": null,
       "total": 190,
       "unit": "B",
       "unit_divisor": 1000,
       "unit_scale": true
      },
      "application/vnd.jupyter.widget-view+json": {
       "model_id": "1f65761087fa46fb806d2b206f5b42e5",
       "version_major": 2,
       "version_minor": 0
      },
      "text/plain": [
       "Downloading:   0%|          | 0.00/190 [00:00<?, ?B/s]"
      ]
     },
     "metadata": {},
     "output_type": "display_data"
    },
    {
     "data": {
      "application/json": {
       "ascii": false,
       "bar_format": null,
       "colour": null,
       "elapsed": 0.007505655288696289,
       "initial": 0,
       "n": 0,
       "ncols": null,
       "nrows": null,
       "postfix": null,
       "prefix": "Downloading",
       "rate": null,
       "total": 10454,
       "unit": "B",
       "unit_divisor": 1000,
       "unit_scale": true
      },
      "application/vnd.jupyter.widget-view+json": {
       "model_id": "8629df0f58a14a31bc79d9fdfce4c40a",
       "version_major": 2,
       "version_minor": 0
      },
      "text/plain": [
       "Downloading:   0%|          | 0.00/10.5k [00:00<?, ?B/s]"
      ]
     },
     "metadata": {},
     "output_type": "display_data"
    },
    {
     "data": {
      "application/json": {
       "ascii": false,
       "bar_format": null,
       "colour": null,
       "elapsed": 0.02037525177001953,
       "initial": 0,
       "n": 0,
       "ncols": null,
       "nrows": null,
       "postfix": null,
       "prefix": "Downloading",
       "rate": null,
       "total": 612,
       "unit": "B",
       "unit_divisor": 1000,
       "unit_scale": true
      },
      "application/vnd.jupyter.widget-view+json": {
       "model_id": "d1ade2ac3c144e5da568fcd015797c01",
       "version_major": 2,
       "version_minor": 0
      },
      "text/plain": [
       "Downloading:   0%|          | 0.00/612 [00:00<?, ?B/s]"
      ]
     },
     "metadata": {},
     "output_type": "display_data"
    },
    {
     "data": {
      "application/json": {
       "ascii": false,
       "bar_format": null,
       "colour": null,
       "elapsed": 0.009238481521606445,
       "initial": 0,
       "n": 0,
       "ncols": null,
       "nrows": null,
       "postfix": null,
       "prefix": "Downloading",
       "rate": null,
       "total": 116,
       "unit": "B",
       "unit_divisor": 1000,
       "unit_scale": true
      },
      "application/vnd.jupyter.widget-view+json": {
       "model_id": "cf657b0dfe6e4eb3b4d69e889b1a2034",
       "version_major": 2,
       "version_minor": 0
      },
      "text/plain": [
       "Downloading:   0%|          | 0.00/116 [00:00<?, ?B/s]"
      ]
     },
     "metadata": {},
     "output_type": "display_data"
    },
    {
     "data": {
      "application/json": {
       "ascii": false,
       "bar_format": null,
       "colour": null,
       "elapsed": 0.012940645217895508,
       "initial": 0,
       "n": 0,
       "ncols": null,
       "nrows": null,
       "postfix": null,
       "prefix": "Downloading",
       "rate": null,
       "total": 39265,
       "unit": "B",
       "unit_divisor": 1000,
       "unit_scale": true
      },
      "application/vnd.jupyter.widget-view+json": {
       "model_id": "303bd3afefcb4ce1a232d7b3967c52eb",
       "version_major": 2,
       "version_minor": 0
      },
      "text/plain": [
       "Downloading:   0%|          | 0.00/39.3k [00:00<?, ?B/s]"
      ]
     },
     "metadata": {},
     "output_type": "display_data"
    },
    {
     "data": {
      "application/json": {
       "ascii": false,
       "bar_format": null,
       "colour": null,
       "elapsed": 0.007910966873168945,
       "initial": 0,
       "n": 0,
       "ncols": null,
       "nrows": null,
       "postfix": null,
       "prefix": "Downloading",
       "rate": null,
       "total": 90868376,
       "unit": "B",
       "unit_divisor": 1000,
       "unit_scale": true
      },
      "application/vnd.jupyter.widget-view+json": {
       "model_id": "3497f420ad374dffb89913101aca1292",
       "version_major": 2,
       "version_minor": 0
      },
      "text/plain": [
       "Downloading:   0%|          | 0.00/90.9M [00:00<?, ?B/s]"
      ]
     },
     "metadata": {},
     "output_type": "display_data"
    },
    {
     "data": {
      "application/json": {
       "ascii": false,
       "bar_format": null,
       "colour": null,
       "elapsed": 0.008112907409667969,
       "initial": 0,
       "n": 0,
       "ncols": null,
       "nrows": null,
       "postfix": null,
       "prefix": "Downloading",
       "rate": null,
       "total": 90405214,
       "unit": "B",
       "unit_divisor": 1000,
       "unit_scale": true
      },
      "application/vnd.jupyter.widget-view+json": {
       "model_id": "5fae1222621c4978ab48236eec0a4014",
       "version_major": 2,
       "version_minor": 0
      },
      "text/plain": [
       "Downloading:   0%|          | 0.00/90.4M [00:00<?, ?B/s]"
      ]
     },
     "metadata": {},
     "output_type": "display_data"
    },
    {
     "data": {
      "application/json": {
       "ascii": false,
       "bar_format": null,
       "colour": null,
       "elapsed": 0.007664680480957031,
       "initial": 0,
       "n": 0,
       "ncols": null,
       "nrows": null,
       "postfix": null,
       "prefix": "Downloading",
       "rate": null,
       "total": 90360328,
       "unit": "B",
       "unit_divisor": 1000,
       "unit_scale": true
      },
      "application/vnd.jupyter.widget-view+json": {
       "model_id": "1cf634e22b10494dbdad73e638ea2ca5",
       "version_major": 2,
       "version_minor": 0
      },
      "text/plain": [
       "Downloading:   0%|          | 0.00/90.4M [00:00<?, ?B/s]"
      ]
     },
     "metadata": {},
     "output_type": "display_data"
    },
    {
     "data": {
      "application/json": {
       "ascii": false,
       "bar_format": null,
       "colour": null,
       "elapsed": 0.007827043533325195,
       "initial": 0,
       "n": 0,
       "ncols": null,
       "nrows": null,
       "postfix": null,
       "prefix": "Downloading",
       "rate": null,
       "total": 90326566,
       "unit": "B",
       "unit_divisor": 1000,
       "unit_scale": true
      },
      "application/vnd.jupyter.widget-view+json": {
       "model_id": "3f70a3a0a4ac4ff9add901052ae6078c",
       "version_major": 2,
       "version_minor": 0
      },
      "text/plain": [
       "Downloading:   0%|          | 0.00/90.3M [00:00<?, ?B/s]"
      ]
     },
     "metadata": {},
     "output_type": "display_data"
    },
    {
     "data": {
      "application/json": {
       "ascii": false,
       "bar_format": null,
       "colour": null,
       "elapsed": 0.0076296329498291016,
       "initial": 0,
       "n": 0,
       "ncols": null,
       "nrows": null,
       "postfix": null,
       "prefix": "Downloading",
       "rate": null,
       "total": 90326497,
       "unit": "B",
       "unit_divisor": 1000,
       "unit_scale": true
      },
      "application/vnd.jupyter.widget-view+json": {
       "model_id": "9d8e68346d1c4bfcbfdff3d8ede4db4e",
       "version_major": 2,
       "version_minor": 0
      },
      "text/plain": [
       "Downloading:   0%|          | 0.00/90.3M [00:00<?, ?B/s]"
      ]
     },
     "metadata": {},
     "output_type": "display_data"
    },
    {
     "data": {
      "application/json": {
       "ascii": false,
       "bar_format": null,
       "colour": null,
       "elapsed": 0.006607770919799805,
       "initial": 0,
       "n": 0,
       "ncols": null,
       "nrows": null,
       "postfix": null,
       "prefix": "Downloading",
       "rate": null,
       "total": 45212349,
       "unit": "B",
       "unit_divisor": 1000,
       "unit_scale": true
      },
      "application/vnd.jupyter.widget-view+json": {
       "model_id": "2d2ec2ce32dd4088ba91500017690768",
       "version_major": 2,
       "version_minor": 0
      },
      "text/plain": [
       "Downloading:   0%|          | 0.00/45.2M [00:00<?, ?B/s]"
      ]
     },
     "metadata": {},
     "output_type": "display_data"
    },
    {
     "data": {
      "application/json": {
       "ascii": false,
       "bar_format": null,
       "colour": null,
       "elapsed": 0.007500648498535156,
       "initial": 0,
       "n": 0,
       "ncols": null,
       "nrows": null,
       "postfix": null,
       "prefix": "Downloading",
       "rate": null,
       "total": 23026053,
       "unit": "B",
       "unit_divisor": 1000,
       "unit_scale": true
      },
      "application/vnd.jupyter.widget-view+json": {
       "model_id": "5060b33604c5480bbbc3f39c28d01378",
       "version_major": 2,
       "version_minor": 0
      },
      "text/plain": [
       "Downloading:   0%|          | 0.00/23.0M [00:00<?, ?B/s]"
      ]
     },
     "metadata": {},
     "output_type": "display_data"
    },
    {
     "data": {
      "application/json": {
       "ascii": false,
       "bar_format": null,
       "colour": null,
       "elapsed": 0.0076999664306640625,
       "initial": 0,
       "n": 0,
       "ncols": null,
       "nrows": null,
       "postfix": null,
       "prefix": "Downloading",
       "rate": null,
       "total": 23026053,
       "unit": "B",
       "unit_divisor": 1000,
       "unit_scale": true
      },
      "application/vnd.jupyter.widget-view+json": {
       "model_id": "6962eaf963154f6e8e309de12f2d6a94",
       "version_major": 2,
       "version_minor": 0
      },
      "text/plain": [
       "Downloading:   0%|          | 0.00/23.0M [00:00<?, ?B/s]"
      ]
     },
     "metadata": {},
     "output_type": "display_data"
    },
    {
     "data": {
      "application/json": {
       "ascii": false,
       "bar_format": null,
       "colour": null,
       "elapsed": 0.007457256317138672,
       "initial": 0,
       "n": 0,
       "ncols": null,
       "nrows": null,
       "postfix": null,
       "prefix": "Downloading",
       "rate": null,
       "total": 23026053,
       "unit": "B",
       "unit_divisor": 1000,
       "unit_scale": true
      },
      "application/vnd.jupyter.widget-view+json": {
       "model_id": "1bb4000069e344dc8966a04acc9d1eda",
       "version_major": 2,
       "version_minor": 0
      },
      "text/plain": [
       "Downloading:   0%|          | 0.00/23.0M [00:00<?, ?B/s]"
      ]
     },
     "metadata": {},
     "output_type": "display_data"
    },
    {
     "data": {
      "application/json": {
       "ascii": false,
       "bar_format": null,
       "colour": null,
       "elapsed": 0.007788419723510742,
       "initial": 0,
       "n": 0,
       "ncols": null,
       "nrows": null,
       "postfix": null,
       "prefix": "Downloading",
       "rate": null,
       "total": 23046789,
       "unit": "B",
       "unit_divisor": 1000,
       "unit_scale": true
      },
      "application/vnd.jupyter.widget-view+json": {
       "model_id": "25f063a6eee14b78aefc38eabcb12963",
       "version_major": 2,
       "version_minor": 0
      },
      "text/plain": [
       "Downloading:   0%|          | 0.00/23.0M [00:00<?, ?B/s]"
      ]
     },
     "metadata": {},
     "output_type": "display_data"
    },
    {
     "data": {
      "application/json": {
       "ascii": false,
       "bar_format": null,
       "colour": null,
       "elapsed": 0.0076923370361328125,
       "initial": 0,
       "n": 0,
       "ncols": null,
       "nrows": null,
       "postfix": null,
       "prefix": "Downloading",
       "rate": null,
       "total": 90265744,
       "unit": "B",
       "unit_divisor": 1000,
       "unit_scale": true
      },
      "application/vnd.jupyter.widget-view+json": {
       "model_id": "00aa8511c6fb45859388fe1673e0072b",
       "version_major": 2,
       "version_minor": 0
      },
      "text/plain": [
       "Downloading:   0%|          | 0.00/90.3M [00:00<?, ?B/s]"
      ]
     },
     "metadata": {},
     "output_type": "display_data"
    },
    {
     "data": {
      "application/json": {
       "ascii": false,
       "bar_format": null,
       "colour": null,
       "elapsed": 0.007669210433959961,
       "initial": 0,
       "n": 0,
       "ncols": null,
       "nrows": null,
       "postfix": null,
       "prefix": "Downloading",
       "rate": null,
       "total": 211315,
       "unit": "B",
       "unit_divisor": 1000,
       "unit_scale": true
      },
      "application/vnd.jupyter.widget-view+json": {
       "model_id": "c2a74bdd078b43ab8fe0798086db5bd7",
       "version_major": 2,
       "version_minor": 0
      },
      "text/plain": [
       "Downloading:   0%|          | 0.00/211k [00:00<?, ?B/s]"
      ]
     },
     "metadata": {},
     "output_type": "display_data"
    },
    {
     "data": {
      "application/json": {
       "ascii": false,
       "bar_format": null,
       "colour": null,
       "elapsed": 0.007439613342285156,
       "initial": 0,
       "n": 0,
       "ncols": null,
       "nrows": null,
       "postfix": null,
       "prefix": "Downloading",
       "rate": null,
       "total": 22933664,
       "unit": "B",
       "unit_divisor": 1000,
       "unit_scale": true
      },
      "application/vnd.jupyter.widget-view+json": {
       "model_id": "8466b561aac54ad0a92733f490b9f372",
       "version_major": 2,
       "version_minor": 0
      },
      "text/plain": [
       "Downloading:   0%|          | 0.00/22.9M [00:00<?, ?B/s]"
      ]
     },
     "metadata": {},
     "output_type": "display_data"
    },
    {
     "data": {
      "application/json": {
       "ascii": false,
       "bar_format": null,
       "colour": null,
       "elapsed": 0.007868051528930664,
       "initial": 0,
       "n": 0,
       "ncols": null,
       "nrows": null,
       "postfix": null,
       "prefix": "Downloading",
       "rate": null,
       "total": 368006,
       "unit": "B",
       "unit_divisor": 1000,
       "unit_scale": true
      },
      "application/vnd.jupyter.widget-view+json": {
       "model_id": "3ebad1014d2d4d9689372ce6c8a69fb1",
       "version_major": 2,
       "version_minor": 0
      },
      "text/plain": [
       "Downloading:   0%|          | 0.00/368k [00:00<?, ?B/s]"
      ]
     },
     "metadata": {},
     "output_type": "display_data"
    },
    {
     "data": {
      "application/json": {
       "ascii": false,
       "bar_format": null,
       "colour": null,
       "elapsed": 0.007050752639770508,
       "initial": 0,
       "n": 0,
       "ncols": null,
       "nrows": null,
       "postfix": null,
       "prefix": "Downloading",
       "rate": null,
       "total": 90888945,
       "unit": "B",
       "unit_divisor": 1000,
       "unit_scale": true
      },
      "application/vnd.jupyter.widget-view+json": {
       "model_id": "df4bf1877f6f4f03a19d2b706c1fb638",
       "version_major": 2,
       "version_minor": 0
      },
      "text/plain": [
       "Downloading:   0%|          | 0.00/90.9M [00:00<?, ?B/s]"
      ]
     },
     "metadata": {},
     "output_type": "display_data"
    },
    {
     "data": {
      "application/json": {
       "ascii": false,
       "bar_format": null,
       "colour": null,
       "elapsed": 0.007715940475463867,
       "initial": 0,
       "n": 0,
       "ncols": null,
       "nrows": null,
       "postfix": null,
       "prefix": "Downloading",
       "rate": null,
       "total": 53,
       "unit": "B",
       "unit_divisor": 1000,
       "unit_scale": true
      },
      "application/vnd.jupyter.widget-view+json": {
       "model_id": "23dd03152da04abca698e2912940d654",
       "version_major": 2,
       "version_minor": 0
      },
      "text/plain": [
       "Downloading:   0%|          | 0.00/53.0 [00:00<?, ?B/s]"
      ]
     },
     "metadata": {},
     "output_type": "display_data"
    },
    {
     "data": {
      "application/json": {
       "ascii": false,
       "bar_format": null,
       "colour": null,
       "elapsed": 0.007769584655761719,
       "initial": 0,
       "n": 0,
       "ncols": null,
       "nrows": null,
       "postfix": null,
       "prefix": "Downloading",
       "rate": null,
       "total": 112,
       "unit": "B",
       "unit_divisor": 1000,
       "unit_scale": true
      },
      "application/vnd.jupyter.widget-view+json": {
       "model_id": "d3255d6b388940caadc869d86584cf70",
       "version_major": 2,
       "version_minor": 0
      },
      "text/plain": [
       "Downloading:   0%|          | 0.00/112 [00:00<?, ?B/s]"
      ]
     },
     "metadata": {},
     "output_type": "display_data"
    },
    {
     "data": {
      "application/json": {
       "ascii": false,
       "bar_format": null,
       "colour": null,
       "elapsed": 0.007601022720336914,
       "initial": 0,
       "n": 0,
       "ncols": null,
       "nrows": null,
       "postfix": null,
       "prefix": "Downloading",
       "rate": null,
       "total": 466247,
       "unit": "B",
       "unit_divisor": 1000,
       "unit_scale": true
      },
      "application/vnd.jupyter.widget-view+json": {
       "model_id": "ce97d4963846460889596e7add8ad3ec",
       "version_major": 2,
       "version_minor": 0
      },
      "text/plain": [
       "Downloading:   0%|          | 0.00/466k [00:00<?, ?B/s]"
      ]
     },
     "metadata": {},
     "output_type": "display_data"
    },
    {
     "data": {
      "application/json": {
       "ascii": false,
       "bar_format": null,
       "colour": null,
       "elapsed": 0.007364034652709961,
       "initial": 0,
       "n": 0,
       "ncols": null,
       "nrows": null,
       "postfix": null,
       "prefix": "Downloading",
       "rate": null,
       "total": 350,
       "unit": "B",
       "unit_divisor": 1000,
       "unit_scale": true
      },
      "application/vnd.jupyter.widget-view+json": {
       "model_id": "666476165dd445c88fa2be801e359d40",
       "version_major": 2,
       "version_minor": 0
      },
      "text/plain": [
       "Downloading:   0%|          | 0.00/350 [00:00<?, ?B/s]"
      ]
     },
     "metadata": {},
     "output_type": "display_data"
    },
    {
     "data": {
      "application/json": {
       "ascii": false,
       "bar_format": null,
       "colour": null,
       "elapsed": 0.007649421691894531,
       "initial": 0,
       "n": 0,
       "ncols": null,
       "nrows": null,
       "postfix": null,
       "prefix": "Downloading",
       "rate": null,
       "total": 13156,
       "unit": "B",
       "unit_divisor": 1000,
       "unit_scale": true
      },
      "application/vnd.jupyter.widget-view+json": {
       "model_id": "7923479938f240d881e0a7757ad6d6d8",
       "version_major": 2,
       "version_minor": 0
      },
      "text/plain": [
       "Downloading:   0%|          | 0.00/13.2k [00:00<?, ?B/s]"
      ]
     },
     "metadata": {},
     "output_type": "display_data"
    },
    {
     "data": {
      "application/json": {
       "ascii": false,
       "bar_format": null,
       "colour": null,
       "elapsed": 0.007372379302978516,
       "initial": 0,
       "n": 0,
       "ncols": null,
       "nrows": null,
       "postfix": null,
       "prefix": "Downloading",
       "rate": null,
       "total": 231508,
       "unit": "B",
       "unit_divisor": 1000,
       "unit_scale": true
      },
      "application/vnd.jupyter.widget-view+json": {
       "model_id": "7063ae8cd0854a2c842f98a833356d25",
       "version_major": 2,
       "version_minor": 0
      },
      "text/plain": [
       "Downloading:   0%|          | 0.00/232k [00:00<?, ?B/s]"
      ]
     },
     "metadata": {},
     "output_type": "display_data"
    },
    {
     "data": {
      "application/json": {
       "ascii": false,
       "bar_format": null,
       "colour": null,
       "elapsed": 0.008186578750610352,
       "initial": 0,
       "n": 0,
       "ncols": null,
       "nrows": null,
       "postfix": null,
       "prefix": "Downloading",
       "rate": null,
       "total": 349,
       "unit": "B",
       "unit_divisor": 1000,
       "unit_scale": true
      },
      "application/vnd.jupyter.widget-view+json": {
       "model_id": "732909563a8041cb917146d9120da918",
       "version_major": 2,
       "version_minor": 0
      },
      "text/plain": [
       "Downloading:   0%|          | 0.00/349 [00:00<?, ?B/s]"
      ]
     },
     "metadata": {},
     "output_type": "display_data"
    },
    {
     "name": "stdout",
     "output_type": "stream",
     "text": [
      "(1506, 384)\n"
     ]
    }
   ],
   "source": [
    "model_id = \"sentence-transformers/all-MiniLM-L6-v2\"\n",
    "\n",
    "# Instantiate a new SentenceTransformer object.\n",
    "model = SentenceTransformer(model_id)\n",
    "\n",
    "# Generate the embeddings for the \"rented for\" column.\n",
    "embeddings = model.encode(list(runway['rented for']))"
   ]
  },
  {
   "cell_type": "code",
   "execution_count": 24,
   "id": "c5a8a6dd-8870-4631-8920-725bbefda641",
   "metadata": {
    "executionCancelledAt": null,
    "executionTime": null,
    "lastExecutedAt": null,
    "lastExecutedByKernel": null,
    "lastScheduledRunId": null,
    "lastSuccessfullyExecutedCode": null,
    "outputsMetadata": {
     "0": {
      "height": 38,
      "type": "stream"
     }
    }
   },
   "outputs": [
    {
     "name": "stdout",
     "output_type": "stream",
     "text": [
      "(1506, 384)\n"
     ]
    }
   ],
   "source": [
    "print(embeddings.shape)"
   ]
  },
  {
   "cell_type": "markdown",
   "id": "370c87ee-88c2-4272-a3ff-66dd2f442cb0",
   "metadata": {},
   "source": [
    "## Task 8: Clustering"
   ]
  },
  {
   "cell_type": "markdown",
   "id": "0810760f-0c27-4145-ad6d-b5689c2285ac",
   "metadata": {},
   "source": [
    "The all-MiniLM-L6-v2 model outputs embeddings of 384 dimensions. A higher-dimensional embedding can capture more of the relationship between words which is fantastic!\n",
    "\n",
    "However, for some tasks, such as clustering, it can be a challenge. Clustering tends to perform poorly with higher dimensions of data (i.e. the Curse of Dimensionality), which poses a common challenge in text mining and NLP. Therefore, dimensionality reduction is often employed in order to calculate distance (e.g. Euclidean) between embeddings, then calculate clusters.\n",
    "\n",
    "Since the transformer is constructed in such a way to be better at learning context, text - words, sentences, documents - that are similar should have similar vectors and therefore be closer together (i.e. in the same cluster).\n",
    "\n",
    "Understanding which embeddings are closer together can then be used to determine which products, users, reviews, etc. are similar to each other. This is an important step in common method for building recommendations."
   ]
  },
  {
   "cell_type": "markdown",
   "id": "df18de72-b2d6-487d-95bf-e912a8cb4d48",
   "metadata": {},
   "source": [
    "### Instructions"
   ]
  },
  {
   "cell_type": "markdown",
   "id": "77a016cb-496e-4589-b159-952c5364eb30",
   "metadata": {},
   "source": [
    "In this task, you'll conduct dimensionality reduction using the `TSNE` module from the `sklearn` package.\n",
    "\n",
    "- Import `TSNE` from `sklearn.manifold`.\n",
    "- Create a new TSNE object using the defined input parameters. Save as `tsne`.\n",
    "- Fit the `tsne` model with the saved embeddings. Save this as `tsne_dims`."
   ]
  },
  {
   "cell_type": "code",
   "execution_count": 25,
   "id": "e8a2bdf5-6076-4b13-88d3-c484d4923780",
   "metadata": {
    "executionCancelledAt": null,
    "executionTime": 6121,
    "lastExecutedAt": 1744407095274,
    "lastExecutedByKernel": "a0715abe-680e-412f-bc52-b9917ae13588",
    "lastScheduledRunId": null,
    "lastSuccessfullyExecutedCode": "# Import TSNE\nfrom sklearn.manifold import TSNE\n\n# Instantiate a new TSNE object. \ntsne=TSNE(n_components=2, perplexity=15, random_state=69, init='random', learning_rate=200)\n\n# Generate the tsne dimensions using the saved embeddings.\ntsne_dims = tsne.fit_transform(embeddings)",
    "outputsMetadata": {
     "0": {
      "height": 37,
      "type": "stream"
     }
    }
   },
   "outputs": [],
   "source": [
    "# Import TSNE\n",
    "from sklearn.manifold import TSNE\n",
    "\n",
    "# Instantiate a new TSNE object. \n",
    "tsne=TSNE(n_components=2, perplexity=15, random_state=69, init='random', learning_rate=200)\n",
    "\n",
    "# Generate the tsne dimensions using the saved embeddings.\n",
    "tsne_dims = tsne.fit_transform(embeddings)"
   ]
  },
  {
   "cell_type": "code",
   "execution_count": 26,
   "id": "f469ce3d-449d-4411-abce-5446de83e6f0",
   "metadata": {
    "executionCancelledAt": null,
    "executionTime": null,
    "lastExecutedAt": null,
    "lastExecutedByKernel": null,
    "lastScheduledRunId": null,
    "lastSuccessfullyExecutedCode": null,
    "outputsMetadata": {
     "0": {
      "height": 38,
      "type": "stream"
     }
    }
   },
   "outputs": [
    {
     "name": "stdout",
     "output_type": "stream",
     "text": [
      "(1506, 2)\n"
     ]
    }
   ],
   "source": [
    "print(tsne_dims.shape)"
   ]
  },
  {
   "cell_type": "markdown",
   "id": "0790c31f-5ddb-4ca3-912e-f975c8eaaa26",
   "metadata": {},
   "source": [
    "## Task 9: Visualizing the Clusters"
   ]
  },
  {
   "cell_type": "markdown",
   "id": "027bff74-7948-4d64-8180-0203d2edc987",
   "metadata": {},
   "source": [
    "Now each embedding is 2-dimensional. You don't need to be so drastic in dimensionality reduction for clustering, i.e. use explained variance ratio to determine the right number of components, but is important for visualizing the clusters.\n",
    "\n",
    "With these smaller vectors, let's move on to generating basic clusters (the average of each category) and building a visualization for them!"
   ]
  },
  {
   "cell_type": "markdown",
   "id": "d2cb6114-0042-4c84-8146-7ace29a47155",
   "metadata": {},
   "source": [
    "### Instructions"
   ]
  },
  {
   "cell_type": "markdown",
   "id": "0b735148-bbaa-4a69-b999-4657f95e2d91",
   "metadata": {},
   "source": [
    "- Extract the x and y dimensions from the `tsne_dims` result. Save as new columns in `runway` named `x` and `y`, respectively.\n",
    "- Use `seaborn.scatterplot` to create a new scatterplot using the x and y dimensions and `category` as the \"hue\".\n",
    "- Set the title as `Embeddings visualized for 'rented for' reasons and category using t-SNE`."
   ]
  },
  {
   "cell_type": "code",
   "execution_count": 27,
   "id": "beee02fb-0c21-42eb-b9c0-9526ac5d9c6d",
   "metadata": {
    "executionCancelledAt": null,
    "executionTime": 394,
    "lastExecutedAt": 1744407399934,
    "lastExecutedByKernel": "a0715abe-680e-412f-bc52-b9917ae13588",
    "lastScheduledRunId": null,
    "lastSuccessfullyExecutedCode": "# Parse out the x and y dimensions from the tsne output.\nrunway['x'] = [x for x, y in tsne_dims]\nrunway['y'] = [y for x, y in tsne_dims]\n\n# Create the scatterplot\nsns.scatterplot(x='x', y='y', hue='category', data=runway)\nplt.title('Rented for - Embeddings')\nplt.show()"
   },
   "outputs": [
    {
     "data": {
      "image/png": "[encoded data removed]",
      "text/plain": [
       "<Figure size 640x480 with 1 Axes>"
      ]
     },
     "metadata": {
      "image/png": {
       "height": 453,
       "width": 570
      }
     },
     "output_type": "display_data"
    }
   ],
   "source": [
    "# Parse out the x and y dimensions from the tsne output.\n",
    "runway['x'] = [x for x, y in tsne_dims]\n",
    "runway['y'] = [y for x, y in tsne_dims]\n",
    "\n",
    "# Create the scatterplot\n",
    "sns.scatterplot(x='x', y='y', hue='category', data=runway)\n",
    "plt.title('Rented for - Embeddings')\n",
    "plt.show()"
   ]
  },
  {
   "cell_type": "markdown",
   "id": "8974da23-8775-4822-b72a-f4227c2ed24b",
   "metadata": {},
   "source": [
    "## Task 10: Semantic Search"
   ]
  },
  {
   "cell_type": "markdown",
   "id": "007e04cc-a7bd-42db-af43-149deaba3633",
   "metadata": {},
   "source": [
    "The plot is showing us all of the review embeddings - based on the \"rented_for\" column - in a two-dimensional space (since our eyes can't handle 384 dimensions)! The color is indicating the type of item rented, i.e. \"dress\", \"gown\", \"sheath\".\n",
    "\n",
    "There are clearly two main clusters in this dataset for \"rented for\" - the mainly blue cluster and the mainly orange one. The blue cluster consists primarily of gowns while the other is mainly dresses.\n",
    "\n",
    "This is a simple example yet still very informative about how customers rent items for which types of occasions.\n",
    "\n",
    "Embeddings are not only cool to visualize, as mentioned above, they also facilitate \"semantic search\". Semantic search denotes \"searching with meaning\" and with context when available. The goal is to infer what the user's intent is then find the most relevant results. This is different from \"lexical search\" where a search engine looks for literal matches of a query (or defined variants). Both have their strengths and weaknesses, which we encourage you to research further.\n",
    "\n",
    "Semantic search can be incredibly powerful in a customer experience setting. Specifically, they can help with recommendations (i.e. which product is similar based on reviews, descriptions, etc.) and - obviously - search (i.e. find me products with these phrases or words in their reviews). "
   ]
  },
  {
   "cell_type": "markdown",
   "id": "902dc01e-364b-46ea-b9b1-a873cda94722",
   "metadata": {},
   "source": [
    "### Instructions"
   ]
  },
  {
   "cell_type": "markdown",
   "id": "531a9a21-c690-4007-ac99-3be60e203686",
   "metadata": {},
   "source": [
    "In this task, you'll build a simple semantic search pipeline using the `sentence-transformer` package.\n",
    "\n",
    "- First, generate an embedding of the pre-defined query using the same model object saved above. Save this query embedding as `query_emb`.\n",
    "- With the `semantic_search()` function, use the query embedding and the other embeddings to get the top three \"hits\", i.e. most similar items by review.\n",
    "- Use a for-loop to print the category and rented for reason for each hit."
   ]
  },
  {
   "cell_type": "code",
   "execution_count": 28,
   "id": "7f55c049-04fb-4469-b99b-16bae114b68c",
   "metadata": {
    "executionCancelledAt": null,
    "executionTime": null,
    "lastExecutedAt": null,
    "lastExecutedByKernel": null,
    "lastScheduledRunId": null,
    "lastSuccessfullyExecutedCode": null,
    "outputsMetadata": {
     "0": {
      "height": 332,
      "type": "stream"
     }
    }
   },
   "outputs": [
    {
     "name": "stdout",
     "output_type": "stream",
     "text": [
      "ITEM ID:  1498329\n",
      "RENTED FOR:  wedding\n",
      "REVIEW:  the dress was gorgeous but unfortunately i was unable to wear it due to some quality issues which the renttherunway team was excellent at handlingi would recommend going upsizes from your usual dress size if you have a larger bustit also runs on the long side imand even withinch heels it dragged a little too much for my preferencethe colours are rich and true to the picture the fabric is forgiving when it comes to wrinkles so its a dress that travels very well\n",
      "ITEM ID:  1879504\n",
      "RENTED FOR:  wedding\n",
      "REVIEW:  this dress was greatit fit really well and was very comfortablethe only negative is that the length is a little odd so it made walking up stairs and getting into the car a little difficultimlbs and the medium fit perfectly\n",
      "ITEM ID:  652189\n",
      "RENTED FOR:  wedding\n",
      "REVIEW:  even though it was lined with satin this was a light beachy dress that was still formal enough for this casual beach weddingitsbackless though so you cant wear a bra and because the neck is such a scoopneck it makes the neckline a little strange if you have a chest and dont wear onei ended up getting one of those stick on bras and the dress looked much betterits much pinker than the model picture which was a pleasant surprisepretty dress comfortable just a little awkward fitting in the chest area if you have anything larger than an abuy the stick on bra\n"
     ]
    }
   ],
   "source": [
    "# Define query\n",
    "query = \"a gorgeous and flattering dress\"\n",
    "\n",
    "# Embed query\n",
    "query_emb = model.encode(query, convert_to_tensor=True)\n",
    "\n",
    "# Calculate similarity between query and item embeddings\n",
    "hits = semantic_search(query_emb, embeddings, top_k=3)\n",
    "\n",
    "# Print top similar items\n",
    "for hit in hits[0]:\n",
    "    idx = hit['corpus_id']\n",
    "    print('ITEM ID: ', runway.iloc[idx]['item_id'])\n",
    "    print('RENTED FOR: ', runway.iloc[idx]['rented for'])\n",
    "    print('REVIEW: ', runway.iloc[idx]['review_text'])"
   ]
  },
  {
   "cell_type": "markdown",
   "id": "3a7fa623-e56a-483b-b1ef-ebceb06bc7bb",
   "metadata": {},
   "source": [
    "## Task 11: Generate New Marketing Material"
   ]
  },
  {
   "cell_type": "markdown",
   "id": "7be2ffe8-c6c0-4d39-baf7-f97a979f69ed",
   "metadata": {},
   "source": [
    "The semantic search returned three different items that appear to be similar to what we were searching for, i.e. \"the dress was gorgeous\" and \"this dress was a great fit\". With some fine-tuning, you can achieve even greater performance. We can also notice some constructive feedback on other parts of the dress. Further investigation here would reveal important insights for the business team.\n",
    "\n",
    "Let's again switch gears for this final task. Let's generate some new text based on a prompt. Specifically, you want to create some brainstorming material for a new marketing campaign. This type of process can save a lot of time in the creation process - helping you start at \"I have a good idea\" vs. \"I need an idea\". "
   ]
  },
  {
   "cell_type": "markdown",
   "id": "0d90f1f5-6485-47e9-a10f-79a360d0e1fd",
   "metadata": {},
   "source": [
    "### Instructions"
   ]
  },
  {
   "cell_type": "markdown",
   "id": "845ae830-bdad-4e26-ba96-4608cf195f38",
   "metadata": {},
   "source": [
    "In this task, you'll switch back to the `pipeline()` module.\n",
    "\n",
    "- Instantiate a text generation pipeline using `model = \"gpt2\"` as the input parameter. Save as `generator`.\n",
    "- Using this generator, create 1 new piece of text based on the pre-defined prompt. Save as `output`.\n",
    "- Print the prompt and the output."
   ]
  },
  {
   "cell_type": "code",
   "execution_count": 30,
   "id": "dcefb329-8809-49d4-8ef3-2407dffa6dbe",
   "metadata": {
    "executionCancelledAt": null,
    "executionTime": 25706,
    "lastExecutedAt": 1744408443950,
    "lastExecutedByKernel": "a0715abe-680e-412f-bc52-b9917ae13588",
    "lastScheduledRunId": null,
    "lastSuccessfullyExecutedCode": "# Instantiate the pipeline for generating text\ngenerator = pipeline(model='gpt2')\n\n# Pre-defined prompt\nprompt = \"New for this winter season, a lovely dress that\"\n\n# Use the prompt as input to the generator to return output.\noutput = generator(prompt, num_return_sequences=2, return_full_text=True)",
    "outputsMetadata": {
     "0": {
      "height": 38,
      "type": "stream"
     },
     "1": {
      "height": 37,
      "type": "stream"
     },
     "2": {
      "height": 95,
      "type": "stream"
     },
     "6": {
      "height": 37,
      "type": "stream"
     },
     "7": {
      "height": 38,
      "type": "stream"
     },
     "8": {
      "height": 59,
      "type": "stream"
     }
    }
   },
   "outputs": [
    {
     "name": "stderr",
     "output_type": "stream",
     "text": [
      "Setting `pad_token_id` to `eos_token_id`:50256 for open-end generation.\n"
     ]
    }
   ],
   "source": [
    "# Instantiate the pipeline for generating text\n",
    "generator = pipeline(model='gpt2')\n",
    "\n",
    "# Pre-defined prompt\n",
    "prompt = \"New for this winter season, a lovely dress that\"\n",
    "\n",
    "# Use the prompt as input to the generator to return output.\n",
    "output = generator(prompt, num_return_sequences=2, return_full_text=True)"
   ]
  },
  {
   "cell_type": "code",
   "execution_count": 31,
   "id": "5dc4a928-12b6-411a-a010-e701fd01a277",
   "metadata": {
    "executionCancelledAt": null,
    "executionTime": null,
    "lastExecutedAt": null,
    "lastExecutedByKernel": null,
    "lastScheduledRunId": null,
    "lastSuccessfullyExecutedCode": null,
    "outputsMetadata": {
     "0": {
      "height": 80,
      "type": "stream"
     }
    }
   },
   "outputs": [
    {
     "name": "stdout",
     "output_type": "stream",
     "text": [
      "New for this winter season, a lovely dress that was designed by an expert in the field of fashion.\n",
      "\n",
      "Her name is Nina Kondriss, and as the first lady of the United States she wore black pants and a gold tiara\n"
     ]
    }
   ],
   "source": [
    "# Print the generated text.\n",
    "print(output[0]['generated_text'])"
   ]
  }
 ],
 "metadata": {
  "colab": {
   "name": "Welcome to DataCamp Workspaces.ipynb",
   "provenance": []
  },
  "kernelspec": {
   "display_name": "base",
   "language": "python",
   "name": "python3"
  },
  "language_info": {
   "codemirror_mode": {
    "name": "ipython",
    "version": 3
   },
   "file_extension": ".py",
   "mimetype": "text/x-python",
   "name": "python",
   "nbconvert_exporter": "python",
   "pygments_lexer": "ipython3",
   "version": "3.11.7"
  }
 },
 "nbformat": 4,
 "nbformat_minor": 5
}
