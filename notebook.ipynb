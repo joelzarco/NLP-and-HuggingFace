{
 "cells": [
  {
   "cell_type": "markdown",
   "id": "8c8fde4c-9222-4265-b72b-8d7693520250",
   "metadata": {},
   "source": [
    "# Building NLP Applications with Hugging Face"
   ]
  },
  {
   "cell_type": "markdown",
   "id": "3e302e1c-4c18-4c44-87fd-ba935c3a0853",
   "metadata": {},
   "source": [
    "In this project I will perform common Natural Language Processing (NLP) tasks using Hugging Face. Some of these tasks include:\n",
    "- **sentiment analysis** (i.e. categorizing text as negative or positive)\n",
    "- **text embedding** (i.e. transforming a piece of text into a numerical, n-dimensional vector, representation)\n",
    "- **semantic search** (i.e. matching a query with the most appropriate result based on embeddings)\n",
    "\n",
    "The dataset comes from \"Rent the Runway\" [link](https://cseweb.ucsd.edu//~jmcauley/datasets.html#clothing_fit) and is comprised of user reviews on clothing items, their ratings on fit, and other metadata about the user (i.e. gender, height, size, age, reason for renting) and the item (i.e. category)."
   ]
  },
  {
   "cell_type": "markdown",
   "id": "a9274661-8d8c-4cc5-901e-5fc497866b89",
   "metadata": {},
   "source": [
    "## Task 0: Setup"
   ]
  },
  {
   "cell_type": "markdown",
   "id": "2cf847fd-f8f8-49f6-9b43-0eb098239072",
   "metadata": {},
   "source": [
    "For this project, we will need several Python packages:\n",
    "- `pandas`\n",
    "- `numpy`\n",
    "- `datetime`\n",
    "- `re`\n",
    "- `string`\n",
    "- `matplotlib.pyplot`\n",
    "- `seaborn`\n",
    "- `transformers`\n",
    "- `sentence_transformers`\n",
    "\n",
    "These packages will help us with the data preprocessing steps, visualization, and for NLP tasks using Hugging Face the `transformers` and `sentence_transformers` packages."
   ]
  },
  {
   "cell_type": "markdown",
   "id": "b1fcd794-b29c-4010-8be0-651a452b2044",
   "metadata": {},
   "source": [
    "Import necessary libraries."
   ]
  },
  {
   "cell_type": "code",
   "execution_count": 1,
   "id": "f81d6d0e-986b-49f4-94e1-7315a7f0bd67",
   "metadata": {
    "executionCancelledAt": null,
    "executionTime": 10,
    "lastExecutedAt": 1744403816022,
    "lastExecutedByKernel": "a0715abe-680e-412f-bc52-b9917ae13588",
    "lastScheduledRunId": null,
    "lastSuccessfullyExecutedCode": "# Import the other required packages and modules.\nimport pandas as pd\nimport numpy as np\nimport datetime, re, string\nimport seaborn as sns\nimport matplotlib.pyplot as plt\nfrom transformers import pipeline\nfrom sentence_transformers import SentenceTransformer\nfrom sentence_transformers.util import semantic_search\n\n# From the IPython.display package, import display and Markdown\nfrom IPython.display import display, Markdown",
    "outputsMetadata": {
     "0": {
      "height": 117,
      "type": "stream"
     }
    }
   },
   "outputs": [
    {
     "name": "stderr",
     "output_type": "stream",
     "text": [
      "2025-05-29 09:38:08.301488: I tensorflow/core/platform/cpu_feature_guard.cc:210] This TensorFlow binary is optimized to use available CPU instructions in performance-critical operations.\n",
      "To enable the following instructions: AVX2 AVX512F AVX512_VNNI FMA, in other operations, rebuild TensorFlow with the appropriate compiler flags.\n"
     ]
    }
   ],
   "source": [
    "# Import the other required packages and modules.\n",
    "import pandas as pd\n",
    "import numpy as np\n",
    "import datetime, re, string\n",
    "import seaborn as sns\n",
    "import matplotlib.pyplot as plt\n",
    "from transformers import pipeline\n",
    "from sentence_transformers import SentenceTransformer\n",
    "from sentence_transformers.util import semantic_search\n",
    "\n",
    "# From the IPython.display package, import display and Markdown\n",
    "from IPython.display import display, Markdown"
   ]
  },
  {
   "cell_type": "markdown",
   "id": "7f6c51c7-bbbb-4f0f-b218-850221f3dcdf",
   "metadata": {},
   "source": [
    "## Task 1: Import the Runway Data"
   ]
  },
  {
   "cell_type": "markdown",
   "id": "fce00845-9741-4979-91aa-e43ff0db5299",
   "metadata": {},
   "source": [
    "The runway data is contained in a CSV file named `runway.csv`.\n",
    "\n",
    "The dataset contains the following columns.\n",
    "\n",
    "- `user_id`: the unique identifier for the user.\n",
    "- `item_id`: the unique identifier for the item/product rented.\n",
    "- `rating`: the rating by the user.\n",
    "- `rented_for`: the reason the item was rented.\n",
    "- `review_text`: the actual text for the submitted user review.\n",
    "- `category`: the category of the item rented.\n",
    "- `height`: the height of the user in the format {feet}'{inches}\".\n",
    "- `size`: the size of the item rented by the user.\n",
    "- `age`: the age of the user.\n",
    "- `review_date`: the date the review was made by the user."
   ]
  },
  {
   "cell_type": "markdown",
   "id": "1b998f52-93c9-411c-ba74-473955de4b8e",
   "metadata": {},
   "source": [
    "### Instructions"
   ]
  },
  {
   "cell_type": "markdown",
   "id": "c19bfda1-fe9a-4344-9dd9-613d33598d21",
   "metadata": {},
   "source": [
    "Import the runway data to a pandas dataframe.\n",
    "\n",
    "- Read the data from `runway.csv`, making sure to parse the date column. |Assign to `runway`.\n",
    "- Print the column info"
   ]
  },
  {
   "cell_type": "code",
   "execution_count": 7,
   "id": "474d98a8-33ce-4898-a641-4853f17e5738",
   "metadata": {
    "executionCancelledAt": null,
    "executionTime": 152,
    "lastExecutedAt": 1744401808621,
    "lastExecutedByKernel": "a0715abe-680e-412f-bc52-b9917ae13588",
    "lastScheduledRunId": null,
    "lastSuccessfullyExecutedCode": "# Read the data from runway.csv\nrunway = pd.read_csv('runway.csv', parse_dates=['review_date'])",
    "outputsMetadata": {
     "0": {
      "height": 377,
      "type": "stream"
     }
    }
   },
   "outputs": [],
   "source": [
    "# Read the data from runway.csv\n",
    "runway = pd.read_csv('runway.csv', parse_dates=['review_date'])"
   ]
  },
  {
   "cell_type": "code",
   "execution_count": 9,
   "id": "2774c34c-fcd6-4a7f-8412-ff67650c7397",
   "metadata": {
    "executionCancelledAt": null,
    "executionTime": null,
    "lastExecutedAt": null,
    "lastExecutedByKernel": null,
    "lastScheduledRunId": null,
    "lastSuccessfullyExecutedCode": null,
    "outputsMetadata": {
     "0": {
      "height": 374,
      "type": "stream"
     }
    }
   },
   "outputs": [
    {
     "name": "stdout",
     "output_type": "stream",
     "text": [
      "<class 'pandas.core.frame.DataFrame'>\n",
      "RangeIndex: 1506 entries, 0 to 1505\n",
      "Data columns (total 10 columns):\n",
      " #   Column       Non-Null Count  Dtype         \n",
      "---  ------       --------------  -----         \n",
      " 0   user_id      1506 non-null   int64         \n",
      " 1   item_id      1506 non-null   int64         \n",
      " 2   rating       1506 non-null   int64         \n",
      " 3   rented for   1506 non-null   object        \n",
      " 4   review_text  1506 non-null   object        \n",
      " 5   category     1506 non-null   object        \n",
      " 6   height       1503 non-null   object        \n",
      " 7   size         1506 non-null   int64         \n",
      " 8   age          1500 non-null   float64       \n",
      " 9   review_date  1506 non-null   datetime64[ns]\n",
      "dtypes: datetime64[ns](1), float64(1), int64(4), object(4)\n",
      "memory usage: 117.8+ KB\n"
     ]
    }
   ],
   "source": [
    "# Print the column info\n",
    "runway.info()"
   ]
  },
  {
   "cell_type": "code",
   "execution_count": 11,
   "id": "7fe31603-6d1e-41df-a8f9-faa9a73e9019",
   "metadata": {
    "executionCancelledAt": null,
    "executionTime": 34,
    "lastExecutedAt": 1744401856603,
    "lastExecutedByKernel": "a0715abe-680e-412f-bc52-b9917ae13588",
    "lastScheduledRunId": null,
    "lastSuccessfullyExecutedCode": "display(runway.sample(5))",
    "outputsMetadata": {
     "0": {
      "height": 550,
      "tableState": {},
      "type": "dataFrame"
     }
    }
   },
   "outputs": [
    {
     "data": {
      "text/html": [
       "<div>\n",
       "<style scoped>\n",
       "    .dataframe tbody tr th:only-of-type {\n",
       "        vertical-align: middle;\n",
       "    }\n",
       "\n",
       "    .dataframe tbody tr th {\n",
       "        vertical-align: top;\n",
       "    }\n",
       "\n",
       "    .dataframe thead th {\n",
       "        text-align: right;\n",
       "    }\n",
       "</style>\n",
       "<table border=\"1\" class=\"dataframe\">\n",
       "  <thead>\n",
       "    <tr style=\"text-align: right;\">\n",
       "      <th></th>\n",
       "      <th>user_id</th>\n",
       "      <th>item_id</th>\n",
       "      <th>rating</th>\n",
       "      <th>rented for</th>\n",
       "      <th>review_text</th>\n",
       "      <th>category</th>\n",
       "      <th>height</th>\n",
       "      <th>size</th>\n",
       "      <th>age</th>\n",
       "      <th>review_date</th>\n",
       "    </tr>\n",
       "  </thead>\n",
       "  <tbody>\n",
       "    <tr>\n",
       "      <th>1153</th>\n",
       "      <td>769732</td>\n",
       "      <td>1113191</td>\n",
       "      <td>10</td>\n",
       "      <td>wedding</td>\n",
       "      <td>the dress fit wellboth theandi went with the l...</td>\n",
       "      <td>dress</td>\n",
       "      <td>5' 3\"</td>\n",
       "      <td>20</td>\n",
       "      <td>33.0</td>\n",
       "      <td>2019-08-31</td>\n",
       "    </tr>\n",
       "    <tr>\n",
       "      <th>588</th>\n",
       "      <td>946138</td>\n",
       "      <td>1626903</td>\n",
       "      <td>8</td>\n",
       "      <td>wedding</td>\n",
       "      <td>as others have said it runs a bit long for a s...</td>\n",
       "      <td>dress</td>\n",
       "      <td>5' 2\"</td>\n",
       "      <td>4</td>\n",
       "      <td>31.0</td>\n",
       "      <td>2021-11-19</td>\n",
       "    </tr>\n",
       "    <tr>\n",
       "      <th>1200</th>\n",
       "      <td>54595</td>\n",
       "      <td>132738</td>\n",
       "      <td>10</td>\n",
       "      <td>formal affair</td>\n",
       "      <td>really excellent dress i got it was a backup a...</td>\n",
       "      <td>gown</td>\n",
       "      <td>5' 10\"</td>\n",
       "      <td>5</td>\n",
       "      <td>24.0</td>\n",
       "      <td>2017-10-23</td>\n",
       "    </tr>\n",
       "    <tr>\n",
       "      <th>92</th>\n",
       "      <td>7186</td>\n",
       "      <td>883661</td>\n",
       "      <td>10</td>\n",
       "      <td>wedding</td>\n",
       "      <td>loved the fabric it was a great material and t...</td>\n",
       "      <td>dress</td>\n",
       "      <td>5' 4\"</td>\n",
       "      <td>4</td>\n",
       "      <td>26.0</td>\n",
       "      <td>2021-07-13</td>\n",
       "    </tr>\n",
       "    <tr>\n",
       "      <th>742</th>\n",
       "      <td>465832</td>\n",
       "      <td>139086</td>\n",
       "      <td>10</td>\n",
       "      <td>formal affair</td>\n",
       "      <td>i was very worried about this dress being too ...</td>\n",
       "      <td>gown</td>\n",
       "      <td>5' 2\"</td>\n",
       "      <td>24</td>\n",
       "      <td>35.0</td>\n",
       "      <td>2018-01-20</td>\n",
       "    </tr>\n",
       "  </tbody>\n",
       "</table>\n",
       "</div>"
      ],
      "text/plain": [
       "      user_id  item_id  rating     rented for  \\\n",
       "1153   769732  1113191      10        wedding   \n",
       "588    946138  1626903       8        wedding   \n",
       "1200    54595   132738      10  formal affair   \n",
       "92       7186   883661      10        wedding   \n",
       "742    465832   139086      10  formal affair   \n",
       "\n",
       "                                            review_text category  height  \\\n",
       "1153  the dress fit wellboth theandi went with the l...    dress   5' 3\"   \n",
       "588   as others have said it runs a bit long for a s...    dress   5' 2\"   \n",
       "1200  really excellent dress i got it was a backup a...     gown  5' 10\"   \n",
       "92    loved the fabric it was a great material and t...    dress   5' 4\"   \n",
       "742   i was very worried about this dress being too ...     gown   5' 2\"   \n",
       "\n",
       "      size   age review_date  \n",
       "1153    20  33.0  2019-08-31  \n",
       "588      4  31.0  2021-11-19  \n",
       "1200     5  24.0  2017-10-23  \n",
       "92       4  26.0  2021-07-13  \n",
       "742     24  35.0  2018-01-20  "
      ]
     },
     "metadata": {},
     "output_type": "display_data"
    }
   ],
   "source": [
    "display(runway.sample(5))"
   ]
  },
  {
   "cell_type": "markdown",
   "id": "65454beb-970f-4af6-a04c-798b9f665b6f",
   "metadata": {},
   "source": [
    "## Task 2: Preprocessing the `review_text`"
   ]
  },
  {
   "cell_type": "markdown",
   "id": "26fb43b1-9455-456e-a674-34b58e2faae2",
   "metadata": {},
   "source": [
    "Most unstructured text, such as reviews for products, are messy. They contain special characters which may not be necessary, extra spaces, irrelevant digits, and more. Therefore, it is common practice to process, or clean, the text before performing NLP tasks on it.\n",
    "\n",
    "We will create several processing steps for the `review_text` strings by removing special characters, numbers and digits.\n",
    "Latter on the project we will check if this step was necessary given new models work wonders."
   ]
  },
  {
   "cell_type": "markdown",
   "id": "ec2a3334-8917-41cb-9300-3977744e702b",
   "metadata": {},
   "source": [
    "We will follow the next steps to clean our data:\n",
    "- replace the special character \"/\" with a space;\n",
    "- remove punctuations;\n",
    "- remove digits;\n",
    "- replace runs of whitespace, i.e. more than one in a row, with no space; and\n",
    "- make lowercase.\n",
    "\n",
    "Apply these changes to the `review_text` column in the `runway` dataset. \n",
    "\n",
    "Save as a new column called `review_text_cleaned`."
   ]
  },
  {
   "cell_type": "code",
   "execution_count": 16,
   "id": "f2fbaec7-4ce3-4701-bb16-d0034c83d3c7",
   "metadata": {
    "executionCancelledAt": null,
    "executionTime": 35,
    "lastExecutedAt": 1744402361057,
    "lastExecutedByKernel": "a0715abe-680e-412f-bc52-b9917ae13588",
    "lastScheduledRunId": null,
    "lastSuccessfullyExecutedCode": "# save clean text in new column\n# Remove the forward-slash character\nrunway['review_text_cleaned'] = runway['review_text'].str.replace(r\"\\/\", \"\")\n\n# Remove punctuation\nrunway['review_text_cleaned'] = runway['review_text'].str.translate(string.punctuation)\n\n# Remove digits\nrunway['review_text_cleaned'] = runway['review_text'].str.replace(r\"\\d+\", \"\")\n\n# Remove running spaces, two or more spaces. single spaces are ok\nrunway['review_text_cleaned'] = runway['review_text'].str.replace(r\"\\s{2,}\", \"\")\n\n# Make the text lowercase\nrunway['review_text_cleaned'] = runway['review_text'].str.lower()"
   },
   "outputs": [],
   "source": [
    "# save clean text in new column\n",
    "# Remove the forward-slash character\n",
    "runway['review_text_cleaned'] = runway['review_text'].str.replace(r\"\\/\", \"\")\n",
    "\n",
    "# Remove punctuation\n",
    "runway['review_text_cleaned'] = runway['review_text'].str.translate(string.punctuation)\n",
    "\n",
    "# Remove digits\n",
    "runway['review_text_cleaned'] = runway['review_text'].str.replace(r\"\\d+\", \"\")\n",
    "\n",
    "# Remove running spaces, two or more spaces. single spaces are ok\n",
    "runway['review_text_cleaned'] = runway['review_text'].str.replace(r\"\\s{2,}\", \"\")\n",
    "\n",
    "# Make the text lowercase\n",
    "runway['review_text_cleaned'] = runway['review_text'].str.lower()"
   ]
  },
  {
   "cell_type": "markdown",
   "id": "b9232a26-7d75-4430-9614-94cb9eb7ced4",
   "metadata": {},
   "source": [
    "## Task 3: Sentiment Analysis on `review_text_cleaned`"
   ]
  },
  {
   "cell_type": "markdown",
   "id": "2ced1e75-77d5-4eb4-b288-3c958cb9dae0",
   "metadata": {},
   "source": [
    "In this project with sentiment analysis we will categorize reviews into two buckets - negative or positive. Some models on Hugging Face have the ability to categorize text as neutral as well. \n",
    "\n",
    "Sentiment analysis is a common, and useful, NLP task performed in a typical business settings. It can help decision makers determine trends in product or service perception, customer experience, reviews, and more. \n",
    "\n",
    "In this task, you will use the `pipeline()` function with the [\"distilbert-base-uncased-finetuned-sst-2-english\"](https://huggingface.co/distilbert-base-uncased-finetuned-sst-2-english) pre-trained model. This is a smaller general-purpose language representation model that is great at text classification (i.e. sentiment analysis)."
   ]
  },
  {
   "cell_type": "markdown",
   "id": "bbf22268-0367-42fc-9a3c-c05e8990cbb0",
   "metadata": {},
   "source": [
    "We will use `pipeline()` function to achieve the following:\n",
    "\n",
    "- Instantiate a new pipeline object for `sentiment-analysis`. Save as `sentimentAnalysis`.\n",
    "- Use this with a list of the cleaned review text as the input to return sentiment for each review. Save the output as `sent_analysis_output`."
   ]
  },
  {
   "cell_type": "markdown",
   "id": "6f46ec17-d89b-4440-b985-238ab7b7acca",
   "metadata": {},
   "source": [
    "Note that this task is computationally intensive and may take several minutes to run. It runs faster in gpu-enable workspace but I lack one :("
   ]
  },
  {
   "cell_type": "code",
   "execution_count": 23,
   "id": "c7e0cbb2-63c8-46d7-9596-047e3a56f4a7",
   "metadata": {
    "collapsed": false,
    "executionCancelledAt": null,
    "executionTime": 423050,
    "jupyter": {
     "outputs_hidden": false,
     "source_hidden": false
    },
    "lastExecutedAt": 1744403354246,
    "lastExecutedByKernel": "a0715abe-680e-412f-bc52-b9917ae13588",
    "lastScheduledRunId": null,
    "lastSuccessfullyExecutedCode": "model = \"distilbert-base-uncased-finetuned-sst-2-english\"\n\n# Instantiate the new pipeline() object for sentiment analysis. Include the model defined above as the model input.\nsentimentAnalysis = pipeline('sentiment-analysis', model=model)\n\n# Run sentiment analysis on the cleaned review text. Must be on a list\nsent_analysis_output = sentimentAnalysis(list(runway['review_text_cleaned']))",
    "outputsMetadata": {
     "0": {
      "height": 134,
      "type": "stream"
     },
     "4": {
      "height": 76,
      "type": "stream"
     }
    }
   },
   "outputs": [
    {
     "name": "stderr",
     "output_type": "stream",
     "text": [
      "Device set to use cpu\n"
     ]
    }
   ],
   "source": [
    "model = \"distilbert-base-uncased-finetuned-sst-2-english\"\n",
    "\n",
    "# Instantiate the new pipeline() object for sentiment analysis. Include the model defined above as the model input.\n",
    "sentimentAnalysis = pipeline('sentiment-analysis', model=model)\n",
    "\n",
    "# Run sentiment analysis on the cleaned review text. Must be on a list\n",
    "sent_analysis_output = sentimentAnalysis(list(runway['review_text_cleaned']))"
   ]
  },
  {
   "cell_type": "markdown",
   "id": "8c36bf1a-f916-4fcd-b335-492621df9a2d",
   "metadata": {},
   "source": [
    "## Task 4: Histogram of Sentiment Score"
   ]
  },
  {
   "cell_type": "markdown",
   "id": "e2623c92-aef5-4685-839c-348bf473ac38",
   "metadata": {},
   "source": [
    "We can use a histogram to understand visually how the sentiment of reviews is distributed amongst rented items on our dataset."
   ]
  },
  {
   "cell_type": "markdown",
   "id": "0a44e3ae-1b61-4184-8581-1b667859e115",
   "metadata": {},
   "source": [
    "Steps to follow:\n",
    "- Parse the output of `sent_analysis_output` into two new columns - `clean_sentiment_category` and `clean_sentiment_score`.\n",
    "- Use `seaborn` to plot score versus reviews to visualize sentiment score distribution:"
   ]
  },
  {
   "cell_type": "code",
   "execution_count": 28,
   "id": "139363ce-e293-4a07-9755-40ab1ecbc5e7",
   "metadata": {
    "executionCancelledAt": null,
    "executionTime": 398,
    "lastExecutedAt": 1744403823091,
    "lastExecutedByKernel": "a0715abe-680e-412f-bc52-b9917ae13588",
    "lastScheduledRunId": null,
    "lastSuccessfullyExecutedCode": "# Parse out the two pieces of output from sent_analysis_output - \"label\" and \"score\".\nrunway['clean_sentiment_category'] = [s['label'] for s in sent_analysis_output]\nrunway['clean_sentiment_score'] = [s['score'] for s in sent_analysis_output]\n\n# Create the first histogram using the built-in Pandas histogram method.\nsns.histplot(data=runway, x='clean_sentiment_score', bins=20)\nplt.title('Distribution of Sentiment score')\nplt.xlabel('Score')\nplt.ylabel('Reviews')\nplt.show()\n"
   },
   "outputs": [
    {
     "name": "stderr",
     "output_type": "stream",
     "text": [
      "/opt/anaconda3/lib/python3.11/site-packages/seaborn/_oldcore.py:1119: FutureWarning: use_inf_as_na option is deprecated and will be removed in a future version. Convert inf values to NaN before operating instead.\n",
      "  with pd.option_context('mode.use_inf_as_na', True):\n"
     ]
    },
    {
     "data": {
      "image/png": "[encoded data removed]",
      "text/plain": [
       "<Figure size 640x480 with 1 Axes>"
      ]
     },
     "metadata": {},
     "output_type": "display_data"
    }
   ],
   "source": [
    "# Parse out the two pieces of output from sent_analysis_output - \"label\" and \"score\".\n",
    "runway['clean_sentiment_category'] = [s['label'] for s in sent_analysis_output]\n",
    "runway['clean_sentiment_score'] = [s['score'] for s in sent_analysis_output]\n",
    "\n",
    "# Create the first histogram using the built-in Pandas histogram method.\n",
    "sns.histplot(data=runway, x='clean_sentiment_score', bins=20)\n",
    "plt.title('Distribution of Sentiment score')\n",
    "plt.xlabel('Score')\n",
    "plt.ylabel('Reviews')\n",
    "plt.show()\n"
   ]
  },
  {
   "cell_type": "markdown",
   "id": "0b7906f8-b31c-48a1-9c4f-4482f1e7ccfd",
   "metadata": {},
   "source": [
    "## Task 5: Sentiment Over the Years"
   ]
  },
  {
   "cell_type": "markdown",
   "id": "b7e07c3b-dfa9-4372-957e-ad6293a53634",
   "metadata": {},
   "source": [
    "The distribution is informative from a global perspective - i.e., the reviews skew positive (\"great customer experience\"). However, it doesn't tell a complete story.\n",
    "\n",
    "Now that you have sentiment, you can explore the trends of sentiment across different facets of the data (i.e. over time, between products, etc.). Dissecting the data in this way, based on the business questions of interest, will explain more about what is going well and what needs improvement."
   ]
  },
  {
   "cell_type": "markdown",
   "id": "372472c6-ffa7-46f5-9af2-6a81c636e3ff",
   "metadata": {},
   "source": [
    "In this task, we will explore how sentiment changed over the years through a bar plot visualization.\n",
    "\n",
    "- Create a new column called `year`.\n",
    "- Count the number of reviews by `year` and `clean_sentiment_category`. Save as `chart_data`.\n",
    "- Visualize the count of reviews using a seaborn `.barplot()`."
   ]
  },
  {
   "cell_type": "code",
   "execution_count": 36,
   "id": "0676f32e-4167-46ad-b4ad-03b6291eaef0",
   "metadata": {
    "executionCancelledAt": null,
    "executionTime": 286,
    "lastExecutedAt": 1744404603940,
    "lastExecutedByKernel": "a0715abe-680e-412f-bc52-b9917ae13588",
    "lastScheduledRunId": null,
    "lastSuccessfullyExecutedCode": "# Create a new column called \"year\" which is the year of the \"review_date\".\nrunway['year'] = runway['review_date'].dt.year\n\n# Create a new dataframe of review counts by \"year\" and \"cleaned_sentiment_category\".\nchart_data = runway.groupby(['year', 'clean_sentiment_category'], as_index=False)['user_id'].count()\nchart_data.columns = ['year', 'clean_sentiment_category', 'cnt']\n# Create a bar plot showing the count of reviews for each sentiment category over the years.\nsns.barplot(data=chart_data, x='year', y='cnt', hue='clean_sentiment_category', errorbar=None)\nplt.title('Sentiment accross the years')\nplt.xlabel('year')\nplt.ylabel('Reviews count')\nplt.show()"
   },
   "outputs": [
    {
     "data": {
      "image/png": "[encoded data removed]",
      "text/plain": [
       "<Figure size 640x480 with 1 Axes>"
      ]
     },
     "metadata": {},
     "output_type": "display_data"
    }
   ],
   "source": [
    "# Create a new column called \"year\" which is the year of the \"review_date\".\n",
    "runway['year'] = runway['review_date'].dt.year\n",
    "\n",
    "# Create a new dataframe of review counts by \"year\" and \"cleaned_sentiment_category\".\n",
    "chart_data = runway.groupby(['year', 'clean_sentiment_category'], as_index=False)['user_id'].count()\n",
    "chart_data.columns = ['year', 'clean_sentiment_category', 'cnt']\n",
    "# Create a bar plot showing the count of reviews for each sentiment category over the years.\n",
    "sns.barplot(data=chart_data, x='year', y='cnt', hue='clean_sentiment_category', errorbar=None)\n",
    "plt.title('Sentiment accross the years')\n",
    "plt.xlabel('year')\n",
    "plt.ylabel('Reviews count')\n",
    "plt.show()"
   ]
  },
  {
   "cell_type": "markdown",
   "id": "cc58cd00-96a6-4d06-b4d0-ecaaa10223ac",
   "metadata": {},
   "source": [
    "## Task 6: Does Cleaning Text Matter?"
   ]
  },
  {
   "cell_type": "markdown",
   "id": "6cd73b32-fec8-447e-8e79-8172acfb4837",
   "metadata": {},
   "source": [
    "It seems like the amount of positive reviews increased dramatically in 2021. Potentially a revamp of the customer experience, product quality, more customers, or something else we don't have data for. \n",
    "\n",
    "From a business context, digging into the common words/n-grams of the positive reviews can be revealing as to what customers love about the products. Doing the same for the negative reviews can be just as informative for what they don't love (i.e. sizing issues, rental service, etc.). \n",
    "\n",
    "Now let's test the previous comment on preprocessing text. Does it matter for sentiment analysis?\n",
    "\n",
    "In this task, you will build another sentiment analysis pipeline but, in this case, for the non-cleaned `review_text`. Then, you will compare the output from the two pipelines to understand if the cleaning made a difference in categorizing sentiment."
   ]
  },
  {
   "cell_type": "markdown",
   "id": "d0abb3d1-1916-465e-932a-77e058726172",
   "metadata": {},
   "source": [
    "Steps:\n",
    "- Duplicate the steps from the previous exercise to run a sentiment analysis pipeline. Save as `sent_analysis_2`.\n",
    "- Parse the output and save as `sentiment_category` and `sentiment_score`.\n",
    "- Create a confusion matrix using `pd.crosstab()` comparing the output of `clean_sentiment_category` and `sentiment_category`."
   ]
  },
  {
   "cell_type": "code",
   "execution_count": 39,
   "id": "b492e23f-eef1-4919-8052-fdb625c6333d",
   "metadata": {
    "chartConfig": {
     "bar": {
      "hasRoundedCorners": true,
      "stacked": false
     },
     "type": "bar",
     "version": "v1"
    },
    "collapsed": false,
    "executionCancelledAt": null,
    "executionTime": 435992,
    "jupyter": {
     "outputs_hidden": false,
     "source_hidden": false
    },
    "lastExecutedAt": 1744406074842,
    "lastExecutedByKernel": "a0715abe-680e-412f-bc52-b9917ae13588",
    "lastScheduledRunId": null,
    "lastSuccessfullyExecutedCode": "# Create a new sentiment analysis output for \"review_text\".\nsent_analysis_2 = sentimentAnalysis(list(runway['review_text']))\n\n# Parse the output into \"sentiment_category\" and \"sentiment_score\".\nrunway['sentiment_category'] = [s['label'] for s in sent_analysis_2]\nrunway['sentiment_score'] = [s['score'] for s in sent_analysis_2]\n# Print the confusion matrix comparing the two sentiment category outputs.\ndisplay(pd.crosstab(runway['clean_sentiment_category'], runway['sentiment_category']))",
    "outputsMetadata": {
     "0": {
      "chartState": {
       "chartModel": {
        "cellRange": {
         "columns": [],
         "rowEndIndex": null,
         "rowStartIndex": null
        },
        "chartId": "6dtkycljr7r",
        "chartOptions": {
         "bar": {
          "axes": {},
          "legend": {
           "enabled": false
          }
         }
        },
        "chartType": "groupedColumn",
        "modelType": "range"
       },
       "conversionErrors": [
        "invalid-axis-config"
       ],
       "pivotMode": {
        "enabled": false
       },
       "rangeChartModel": {
        "rangeColumns": []
       },
       "sharedChartOptions": {
        "bar": {
         "axes": {},
         "legend": {
          "enabled": false
         }
        }
       }
      },
      "height": 50,
      "tableState": {
       "customFilter": {
        "const": {
         "type": "boolean",
         "valid": true,
         "value": true
        },
        "id": "c216f9c0-b3e2-4692-b12c-540591b9a998",
        "nodeType": "const"
       }
      },
      "type": "dataFrame"
     }
    },
    "version": "ag-charts-v1",
    "visualizeDataframe": false
   },
   "outputs": [
    {
     "data": {
      "text/html": [
       "<div>\n",
       "<style scoped>\n",
       "    .dataframe tbody tr th:only-of-type {\n",
       "        vertical-align: middle;\n",
       "    }\n",
       "\n",
       "    .dataframe tbody tr th {\n",
       "        vertical-align: top;\n",
       "    }\n",
       "\n",
       "    .dataframe thead th {\n",
       "        text-align: right;\n",
       "    }\n",
       "</style>\n",
       "<table border=\"1\" class=\"dataframe\">\n",
       "  <thead>\n",
       "    <tr style=\"text-align: right;\">\n",
       "      <th>sentiment_category</th>\n",
       "      <th>NEGATIVE</th>\n",
       "      <th>POSITIVE</th>\n",
       "    </tr>\n",
       "    <tr>\n",
       "      <th>clean_sentiment_category</th>\n",
       "      <th></th>\n",
       "      <th></th>\n",
       "    </tr>\n",
       "  </thead>\n",
       "  <tbody>\n",
       "    <tr>\n",
       "      <th>NEGATIVE</th>\n",
       "      <td>375</td>\n",
       "      <td>0</td>\n",
       "    </tr>\n",
       "    <tr>\n",
       "      <th>POSITIVE</th>\n",
       "      <td>0</td>\n",
       "      <td>1131</td>\n",
       "    </tr>\n",
       "  </tbody>\n",
       "</table>\n",
       "</div>"
      ],
      "text/plain": [
       "sentiment_category        NEGATIVE  POSITIVE\n",
       "clean_sentiment_category                    \n",
       "NEGATIVE                       375         0\n",
       "POSITIVE                         0      1131"
      ]
     },
     "metadata": {},
     "output_type": "display_data"
    }
   ],
   "source": [
    "# Create a new sentiment analysis output for \"review_text\".\n",
    "sent_analysis_2 = sentimentAnalysis(list(runway['review_text']))\n",
    "\n",
    "# Parse the output into \"sentiment_category\" and \"sentiment_score\".\n",
    "runway['sentiment_category'] = [s['label'] for s in sent_analysis_2]\n",
    "runway['sentiment_score'] = [s['score'] for s in sent_analysis_2]\n",
    "# Print the confusion matrix comparing the two sentiment category outputs.\n",
    "display(pd.crosstab(runway['clean_sentiment_category'], runway['sentiment_category']))"
   ]
  },
  {
   "cell_type": "markdown",
   "id": "127a022a-dc2a-454f-bb90-b6bbfc24e3c6",
   "metadata": {},
   "source": [
    "Based on the previous results, the sentiment of the review was pretty much the same with cleaned text. We can use the original text to perform further analysis. Again, this is context dependent, so be sure to think through the benefits of cleaning vs. leaving the text as is. \n",
    "\n",
    "Transformers, such as those on Hugging Face, are a component of machine learning / deep learning models which are designed to learn sequential data. Using a concept known as \"self-attention\", they use other tokens (words) in the sequence (sentence) to build an understanding of a specific token (word).\n",
    "\n",
    "All of this to say (in a simplified manner) transformers, specifically those trained on VERY large datasets, work well on unstructured, un-cleaned text because it takes the whole sentence into context. And every piece adds to that context."
   ]
  },
  {
   "cell_type": "markdown",
   "id": "a8a780ba-d690-4fcc-90d3-3e73e1419d50",
   "metadata": {},
   "source": [
    "## Task 7: Embeddings"
   ]
  },
  {
   "cell_type": "markdown",
   "id": "1f83e998-9102-4444-99f0-cfa31fc8086c",
   "metadata": {},
   "source": [
    "In the next task, we will switch gears to exploring another common use case for Hugging Face and transformers - text embeddings. \n",
    "\n",
    "Embeddings, in a very simplistic definition, are a vector (numerical) representation of something within n-dimensions. In this case, they are text embeddings.  Embeddings are useful because they represent human language to computers which enables a more sophisticated execution of similarity, text generation, semantic search, and the like. This can be extremely valuable for business tasks such as recommendations and searching within websites or products.\n",
    "\n",
    "No we will try this out on the `rented for` column using the `sentence_transformer` [package](https://huggingface.co/sentence-transformers). The model you'll use is the BERT-based [\"all-MiniLM-L6-v2\" model](https://huggingface.co/sentence-transformers/all-MiniLM-L6-v2) which is a transformer that maps sentences and paragraphs to an n-dimensional vector."
   ]
  },
  {
   "cell_type": "markdown",
   "id": "d2413472-8707-4d57-9df5-ad76e352fa60",
   "metadata": {},
   "source": [
    "Steps:\n",
    "- Instantiate a new instance of `SentenceTransformer` using the specified model (`model_id`). Save as `model`.\n",
    "- Generate an embedding for each review text using `model.encode()`. Save as `embeddings`.\n",
    "- Print the shape of the new embeddings array."
   ]
  },
  {
   "cell_type": "code",
   "execution_count": 44,
   "id": "7bd6abe6-54a7-4bc5-8d6d-8d3d99fb3598",
   "metadata": {
    "executionCancelledAt": null,
    "executionTime": null,
    "lastExecutedAt": null,
    "lastExecutedByKernel": null,
    "lastScheduledRunId": null,
    "lastSuccessfullyExecutedCode": null,
    "outputsMetadata": {
     "0": {
      "height": 37,
      "type": "stream"
     },
     "14": {
      "height": 37,
      "type": "stream"
     },
     "28": {
      "height": 38,
      "type": "stream"
     }
    }
   },
   "outputs": [
    {
     "data": {
      "application/vnd.jupyter.widget-view+json": {
       "model_id": "c62c1b9989b24d48878b60fbdfdb82fd",
       "version_major": 2,
       "version_minor": 0
      },
      "text/plain": [
       "modules.json:   0%|          | 0.00/349 [00:00<?, ?B/s]"
      ]
     },
     "metadata": {},
     "output_type": "display_data"
    },
    {
     "data": {
      "application/vnd.jupyter.widget-view+json": {
       "model_id": "4791eba54aff47aeb305dbb3345dbe01",
       "version_major": 2,
       "version_minor": 0
      },
      "text/plain": [
       "config_sentence_transformers.json:   0%|          | 0.00/116 [00:00<?, ?B/s]"
      ]
     },
     "metadata": {},
     "output_type": "display_data"
    },
    {
     "data": {
      "application/vnd.jupyter.widget-view+json": {
       "model_id": "14bd02424cc048ab8a1ead950a23c74b",
       "version_major": 2,
       "version_minor": 0
      },
      "text/plain": [
       "README.md:   0%|          | 0.00/10.5k [00:00<?, ?B/s]"
      ]
     },
     "metadata": {},
     "output_type": "display_data"
    },
    {
     "data": {
      "application/vnd.jupyter.widget-view+json": {
       "model_id": "2aa6a7fa6cc041bb8a6d31053eed0bf5",
       "version_major": 2,
       "version_minor": 0
      },
      "text/plain": [
       "sentence_bert_config.json:   0%|          | 0.00/53.0 [00:00<?, ?B/s]"
      ]
     },
     "metadata": {},
     "output_type": "display_data"
    },
    {
     "data": {
      "application/vnd.jupyter.widget-view+json": {
       "model_id": "3655bf9206204785b509788a0abc441b",
       "version_major": 2,
       "version_minor": 0
      },
      "text/plain": [
       "config.json:   0%|          | 0.00/612 [00:00<?, ?B/s]"
      ]
     },
     "metadata": {},
     "output_type": "display_data"
    },
    {
     "data": {
      "application/vnd.jupyter.widget-view+json": {
       "model_id": "39b1b319fa714fdca82a6a3ea481c762",
       "version_major": 2,
       "version_minor": 0
      },
      "text/plain": [
       "model.safetensors:   0%|          | 0.00/90.9M [00:00<?, ?B/s]"
      ]
     },
     "metadata": {},
     "output_type": "display_data"
    },
    {
     "data": {
      "application/vnd.jupyter.widget-view+json": {
       "model_id": "48b9373752cd4db38dd64faadeaaf33c",
       "version_major": 2,
       "version_minor": 0
      },
      "text/plain": [
       "tokenizer_config.json:   0%|          | 0.00/350 [00:00<?, ?B/s]"
      ]
     },
     "metadata": {},
     "output_type": "display_data"
    },
    {
     "data": {
      "application/vnd.jupyter.widget-view+json": {
       "model_id": "f1c83bb2af56494a9d68f8c6222ee636",
       "version_major": 2,
       "version_minor": 0
      },
      "text/plain": [
       "vocab.txt:   0%|          | 0.00/232k [00:00<?, ?B/s]"
      ]
     },
     "metadata": {},
     "output_type": "display_data"
    },
    {
     "data": {
      "application/vnd.jupyter.widget-view+json": {
       "model_id": "16f1c4a93e9a4b2c920adca891f09ef8",
       "version_major": 2,
       "version_minor": 0
      },
      "text/plain": [
       "tokenizer.json:   0%|          | 0.00/466k [00:00<?, ?B/s]"
      ]
     },
     "metadata": {},
     "output_type": "display_data"
    },
    {
     "data": {
      "application/vnd.jupyter.widget-view+json": {
       "model_id": "75005c7cd2084de4b8143004417f29e1",
       "version_major": 2,
       "version_minor": 0
      },
      "text/plain": [
       "special_tokens_map.json:   0%|          | 0.00/112 [00:00<?, ?B/s]"
      ]
     },
     "metadata": {},
     "output_type": "display_data"
    },
    {
     "data": {
      "application/vnd.jupyter.widget-view+json": {
       "model_id": "a8058cf549c24b7db2cbfa3a6b2c42a2",
       "version_major": 2,
       "version_minor": 0
      },
      "text/plain": [
       "config.json:   0%|          | 0.00/190 [00:00<?, ?B/s]"
      ]
     },
     "metadata": {},
     "output_type": "display_data"
    }
   ],
   "source": [
    "model_id = \"sentence-transformers/all-MiniLM-L6-v2\"\n",
    "\n",
    "# Instantiate a new SentenceTransformer object.\n",
    "model = SentenceTransformer(model_id)\n",
    "\n",
    "# Generate the embeddings for the \"rented for\" column.\n",
    "embeddings = model.encode(list(runway['rented for']))"
   ]
  },
  {
   "cell_type": "code",
   "execution_count": 46,
   "id": "c5a8a6dd-8870-4631-8920-725bbefda641",
   "metadata": {
    "executionCancelledAt": null,
    "executionTime": null,
    "lastExecutedAt": null,
    "lastExecutedByKernel": null,
    "lastScheduledRunId": null,
    "lastSuccessfullyExecutedCode": null,
    "outputsMetadata": {
     "0": {
      "height": 38,
      "type": "stream"
     }
    }
   },
   "outputs": [
    {
     "name": "stdout",
     "output_type": "stream",
     "text": [
      "(1506, 384)\n"
     ]
    }
   ],
   "source": [
    "print(embeddings.shape)"
   ]
  },
  {
   "cell_type": "markdown",
   "id": "370c87ee-88c2-4272-a3ff-66dd2f442cb0",
   "metadata": {},
   "source": [
    "## Task 8: Clustering"
   ]
  },
  {
   "cell_type": "markdown",
   "id": "0810760f-0c27-4145-ad6d-b5689c2285ac",
   "metadata": {},
   "source": [
    "The `all-MiniLM-L6-v2` model outputs embeddings of 384 dimensions. A higher-dimensional embedding can capture more of the relationship between words which is fantastic!\n",
    "\n",
    "However, for some tasks, such as clustering, it can be a challenge. Clustering tends to perform poorly with higher dimensions of data (a.k.a the Curse of Dimensionality), which poses a common challenge in text mining and NLP. Therefore, dimensionality reduction is often employed in order to calculate distance (e.g. Euclidean) between embeddings, then calculate clusters.\n",
    "\n",
    "Since the transformer is constructed in such a way to be better at learning context, text - words, sentences, documents - that are similar should have similar vectors and therefore be closer together (i.e. in the same cluster).\n",
    "\n",
    "Understanding which embeddings are closer together can then be used to determine which products, users, reviews, etc. are similar to each other. This is an important step in common method for building recommendations."
   ]
  },
  {
   "cell_type": "markdown",
   "id": "77a016cb-496e-4589-b159-952c5364eb30",
   "metadata": {},
   "source": [
    "In this task, we'll conduct dimensionality reduction using the `TSNE` module from the `sklearn` package.\n",
    "\n",
    "- Import `TSNE` from `sklearn.manifold`.\n",
    "- Create a new TSNE object using the defined input parameters. Save as `tsne`.\n",
    "- Fit the `tsne` model with the saved embeddings. Save this as `tsne_dims`."
   ]
  },
  {
   "cell_type": "code",
   "execution_count": 50,
   "id": "e8a2bdf5-6076-4b13-88d3-c484d4923780",
   "metadata": {
    "executionCancelledAt": null,
    "executionTime": 6121,
    "lastExecutedAt": 1744407095274,
    "lastExecutedByKernel": "a0715abe-680e-412f-bc52-b9917ae13588",
    "lastScheduledRunId": null,
    "lastSuccessfullyExecutedCode": "# Import TSNE\nfrom sklearn.manifold import TSNE\n\n# Instantiate a new TSNE object. \ntsne=TSNE(n_components=2, perplexity=15, random_state=69, init='random', learning_rate=200)\n\n# Generate the tsne dimensions using the saved embeddings.\ntsne_dims = tsne.fit_transform(embeddings)",
    "outputsMetadata": {
     "0": {
      "height": 37,
      "type": "stream"
     }
    }
   },
   "outputs": [
    {
     "name": "stderr",
     "output_type": "stream",
     "text": [
      "/opt/anaconda3/lib/python3.11/site-packages/threadpoolctl.py:1214: RuntimeWarning: \n",
      "Found Intel OpenMP ('libiomp') and LLVM OpenMP ('libomp') loaded at\n",
      "the same time. Both libraries are known to be incompatible and this\n",
      "can cause random crashes or deadlocks on Linux when loaded in the\n",
      "same Python program.\n",
      "Using threadpoolctl may cause crashes or deadlocks. For more\n",
      "information and possible workarounds, please see\n",
      "    https://github.com/joblib/threadpoolctl/blob/master/multiple_openmp.md\n",
      "\n",
      "  warnings.warn(msg, RuntimeWarning)\n"
     ]
    }
   ],
   "source": [
    "# Import TSNE\n",
    "from sklearn.manifold import TSNE\n",
    "\n",
    "# Instantiate a new TSNE object. \n",
    "tsne=TSNE(n_components=2, perplexity=15, random_state=69, init='random', learning_rate=200)\n",
    "\n",
    "# Generate the tsne dimensions using the saved embeddings.\n",
    "tsne_dims = tsne.fit_transform(embeddings)"
   ]
  },
  {
   "cell_type": "code",
   "execution_count": 52,
   "id": "f469ce3d-449d-4411-abce-5446de83e6f0",
   "metadata": {
    "executionCancelledAt": null,
    "executionTime": null,
    "lastExecutedAt": null,
    "lastExecutedByKernel": null,
    "lastScheduledRunId": null,
    "lastSuccessfullyExecutedCode": null,
    "outputsMetadata": {
     "0": {
      "height": 38,
      "type": "stream"
     }
    }
   },
   "outputs": [
    {
     "name": "stdout",
     "output_type": "stream",
     "text": [
      "(1506, 2)\n"
     ]
    }
   ],
   "source": [
    "print(tsne_dims.shape)"
   ]
  },
  {
   "cell_type": "markdown",
   "id": "0790c31f-5ddb-4ca3-912e-f975c8eaaa26",
   "metadata": {},
   "source": [
    "## Task 9: Visualizing the Clusters"
   ]
  },
  {
   "cell_type": "markdown",
   "id": "027bff74-7948-4d64-8180-0203d2edc987",
   "metadata": {},
   "source": [
    "Now each embedding is 2-dimensional. You don't need to be so drastic in dimensionality reduction for clustering, i.e. use explained variance ratio to determine the right number of components, but is important for visualizing the clusters.\n",
    "\n",
    "With these smaller vectors, let's move on to generating basic clusters (the average of each category) and building a visualization for them!"
   ]
  },
  {
   "cell_type": "markdown",
   "id": "0b735148-bbaa-4a69-b999-4657f95e2d91",
   "metadata": {},
   "source": [
    "Steps:\n",
    "- Extract the x and y dimensions from the `tsne_dims` result. Save as new columns in `runway` named `x` and `y`, respectively.\n",
    "- Use `seaborn.scatterplot` to create a new scatterplot using the x and y dimensions and `category` as the \"hue\".\n",
    "- Set the title as `Embeddings visualized for 'rented for' reasons and category using t-SNE`."
   ]
  },
  {
   "cell_type": "code",
   "execution_count": 57,
   "id": "beee02fb-0c21-42eb-b9c0-9526ac5d9c6d",
   "metadata": {
    "executionCancelledAt": null,
    "executionTime": 394,
    "lastExecutedAt": 1744407399934,
    "lastExecutedByKernel": "a0715abe-680e-412f-bc52-b9917ae13588",
    "lastScheduledRunId": null,
    "lastSuccessfullyExecutedCode": "# Parse out the x and y dimensions from the tsne output.\nrunway['x'] = [x for x, y in tsne_dims]\nrunway['y'] = [y for x, y in tsne_dims]\n\n# Create the scatterplot\nsns.scatterplot(x='x', y='y', hue='category', data=runway)\nplt.title('Rented for - Embeddings')\nplt.show()"
   },
   "outputs": [
    {
     "data": {
      "image/png": "[encoded data removed]",
      "text/plain": [
       "<Figure size 640x480 with 1 Axes>"
      ]
     },
     "metadata": {},
     "output_type": "display_data"
    }
   ],
   "source": [
    "# Parse out the x and y dimensions from the tsne output.\n",
    "runway['x'] = [x for x, y in tsne_dims]\n",
    "runway['y'] = [y for x, y in tsne_dims]\n",
    "\n",
    "# Create the scatterplot\n",
    "sns.scatterplot(x='x', y='y', hue='category', data=runway)\n",
    "plt.title('Rented for - Embeddings')\n",
    "plt.show()"
   ]
  },
  {
   "cell_type": "markdown",
   "id": "8974da23-8775-4822-b72a-f4227c2ed24b",
   "metadata": {},
   "source": [
    "## Task 10: Semantic Search"
   ]
  },
  {
   "cell_type": "markdown",
   "id": "007e04cc-a7bd-42db-af43-149deaba3633",
   "metadata": {},
   "source": [
    "The plot is showing us all of the review embeddings - based on the \"rented_for\" column - in a two-dimensional space (since our eyes can't handle 384 dimensions)! The color is indicating the type of item rented, i.e. \"dress\", \"gown\", \"sheath\".\n",
    "\n",
    "There are clearly two main clusters in this dataset for \"rented for\" - the mainly blue cluster and the mainly orange one. The blue cluster consists primarily of gowns while the other is mainly dresses.\n",
    "\n",
    "This is a simple example yet still very informative about how customers rent items for which types of occasions.\n",
    "\n",
    "Embeddings are not only cool to visualize, as mentioned above, they also facilitate \"semantic search\". Semantic search denotes \"searching with meaning\" and with context when available. The goal is to infer what the user's intent is then find the most relevant results. This is different from \"lexical search\" where a search engine looks for literal matches of a query (or defined variants). Both have their strengths and weaknesses, which we encourage you to research further.\n",
    "\n",
    "Semantic search can be incredibly powerful in a customer experience setting. Specifically, they can help with recommendations (i.e. which product is similar based on reviews, descriptions, etc.) and - obviously - search (i.e. find me products with these phrases or words in their reviews). "
   ]
  },
  {
   "cell_type": "markdown",
   "id": "531a9a21-c690-4007-ac99-3be60e203686",
   "metadata": {},
   "source": [
    "In this task, we'll build a simple semantic search pipeline using the `sentence-transformer` package.\n",
    "\n",
    "- First, generate an embedding of the pre-defined query using the same model object saved above. Save this query embedding as `query_emb`.\n",
    "- With the `semantic_search()` function, use the query embedding and the other embeddings to get the top three \"hits\", i.e. most similar items by review.\n",
    "- Use a for-loop to print the category and rented for reason for each hit."
   ]
  },
  {
   "cell_type": "code",
   "execution_count": 60,
   "id": "7f55c049-04fb-4469-b99b-16bae114b68c",
   "metadata": {
    "executionCancelledAt": null,
    "executionTime": null,
    "lastExecutedAt": null,
    "lastExecutedByKernel": null,
    "lastScheduledRunId": null,
    "lastSuccessfullyExecutedCode": null,
    "outputsMetadata": {
     "0": {
      "height": 332,
      "type": "stream"
     }
    }
   },
   "outputs": [
    {
     "name": "stdout",
     "output_type": "stream",
     "text": [
      "ITEM ID:  123793\n",
      "RENTED FOR:  wedding\n",
      "REVIEW:  i am very petite and with heels the regular was just the right length i wished it was a tiny bit tighter in the waist but it still was gorgeous it was not nearly as heavy as i thought it would be and didnt feel so fragile that sequins were going to constantly come off amazing dress\n",
      "ITEM ID:  652189\n",
      "RENTED FOR:  wedding\n",
      "REVIEW:  even though it was lined with satin this was a light beachy dress that was still formal enough for this casual beach weddingitsbackless though so you cant wear a bra and because the neck is such a scoopneck it makes the neckline a little strange if you have a chest and dont wear onei ended up getting one of those stick on bras and the dress looked much betterits much pinker than the model picture which was a pleasant surprisepretty dress comfortable just a little awkward fitting in the chest area if you have anything larger than an abuy the stick on bra\n",
      "ITEM ID:  1498329\n",
      "RENTED FOR:  wedding\n",
      "REVIEW:  the dress was gorgeous but unfortunately i was unable to wear it due to some quality issues which the renttherunway team was excellent at handlingi would recommend going upsizes from your usual dress size if you have a larger bustit also runs on the long side imand even withinch heels it dragged a little too much for my preferencethe colours are rich and true to the picture the fabric is forgiving when it comes to wrinkles so its a dress that travels very well\n"
     ]
    }
   ],
   "source": [
    "# Define query\n",
    "query = \"a gorgeous and flattering dress\"\n",
    "\n",
    "# Embed query\n",
    "query_emb = model.encode(query, convert_to_tensor=True)\n",
    "\n",
    "# Calculate similarity between query and item embeddings\n",
    "hits = semantic_search(query_emb, embeddings, top_k=3)\n",
    "\n",
    "# Print top similar items\n",
    "for hit in hits[0]:\n",
    "    idx = hit['corpus_id']\n",
    "    print('ITEM ID: ', runway.iloc[idx]['item_id'])\n",
    "    print('RENTED FOR: ', runway.iloc[idx]['rented for'])\n",
    "    print('REVIEW: ', runway.iloc[idx]['review_text'])"
   ]
  },
  {
   "cell_type": "markdown",
   "id": "3a7fa623-e56a-483b-b1ef-ebceb06bc7bb",
   "metadata": {},
   "source": [
    "## Task 11: Generate New Marketing Material"
   ]
  },
  {
   "cell_type": "markdown",
   "id": "7be2ffe8-c6c0-4d39-baf7-f97a979f69ed",
   "metadata": {},
   "source": [
    "The semantic search returned three different items that appear to be similar to what we were searching for, i.e. \"the dress was gorgeous\" and \"this dress was a great fit\". With some fine-tuning, you can achieve even greater performance. We can also notice some constructive feedback on other parts of the dress. Further investigation can reveal important insights for the business team.\n",
    "\n",
    "Let's again switch gears for this final task. Let's generate some new text based on a prompt. For example, you want to create some brainstorming material for a new marketing campaign."
   ]
  },
  {
   "cell_type": "markdown",
   "id": "845ae830-bdad-4e26-ba96-4608cf195f38",
   "metadata": {},
   "source": [
    "In this task, we'll switch back to the `pipeline()` module.\n",
    "\n",
    "- Instantiate a text generation pipeline using `model = \"gpt2\"` as the input parameter. Save as `generator`.\n",
    "- Using this generator, create 1 new piece of text based on the pre-defined prompt. Save as `output`.\n",
    "- Print the prompt and the output."
   ]
  },
  {
   "cell_type": "code",
   "execution_count": 64,
   "id": "dcefb329-8809-49d4-8ef3-2407dffa6dbe",
   "metadata": {
    "executionCancelledAt": null,
    "executionTime": 25706,
    "lastExecutedAt": 1744408443950,
    "lastExecutedByKernel": "a0715abe-680e-412f-bc52-b9917ae13588",
    "lastScheduledRunId": null,
    "lastSuccessfullyExecutedCode": "# Instantiate the pipeline for generating text\ngenerator = pipeline(model='gpt2')\n\n# Pre-defined prompt\nprompt = \"New for this winter season, a lovely dress that\"\n\n# Use the prompt as input to the generator to return output.\noutput = generator(prompt, num_return_sequences=2, return_full_text=True)",
    "outputsMetadata": {
     "0": {
      "height": 38,
      "type": "stream"
     },
     "1": {
      "height": 37,
      "type": "stream"
     },
     "2": {
      "height": 95,
      "type": "stream"
     },
     "6": {
      "height": 37,
      "type": "stream"
     },
     "7": {
      "height": 38,
      "type": "stream"
     },
     "8": {
      "height": 59,
      "type": "stream"
     }
    }
   },
   "outputs": [
    {
     "data": {
      "application/vnd.jupyter.widget-view+json": {
       "model_id": "2e53c0b758ce4725a9a0a68adb4618e7",
       "version_major": 2,
       "version_minor": 0
      },
      "text/plain": [
       "config.json:   0%|          | 0.00/665 [00:00<?, ?B/s]"
      ]
     },
     "metadata": {},
     "output_type": "display_data"
    },
    {
     "data": {
      "application/vnd.jupyter.widget-view+json": {
       "model_id": "ba621c211bed47448ef9e5ab8dedc167",
       "version_major": 2,
       "version_minor": 0
      },
      "text/plain": [
       "model.safetensors:   0%|          | 0.00/548M [00:00<?, ?B/s]"
      ]
     },
     "metadata": {},
     "output_type": "display_data"
    },
    {
     "data": {
      "application/vnd.jupyter.widget-view+json": {
       "model_id": "e3fb59bc5cf343219689207ef181b806",
       "version_major": 2,
       "version_minor": 0
      },
      "text/plain": [
       "generation_config.json:   0%|          | 0.00/124 [00:00<?, ?B/s]"
      ]
     },
     "metadata": {},
     "output_type": "display_data"
    },
    {
     "data": {
      "application/vnd.jupyter.widget-view+json": {
       "model_id": "4112006a131f4cdc881960a1849401dd",
       "version_major": 2,
       "version_minor": 0
      },
      "text/plain": [
       "tokenizer_config.json:   0%|          | 0.00/26.0 [00:00<?, ?B/s]"
      ]
     },
     "metadata": {},
     "output_type": "display_data"
    },
    {
     "data": {
      "application/vnd.jupyter.widget-view+json": {
       "model_id": "2a8cba90a17644d5a2647aedfe411d13",
       "version_major": 2,
       "version_minor": 0
      },
      "text/plain": [
       "vocab.json:   0%|          | 0.00/1.04M [00:00<?, ?B/s]"
      ]
     },
     "metadata": {},
     "output_type": "display_data"
    },
    {
     "data": {
      "application/vnd.jupyter.widget-view+json": {
       "model_id": "e0ed2f31feb843dfa14efa733b7c2bdd",
       "version_major": 2,
       "version_minor": 0
      },
      "text/plain": [
       "merges.txt:   0%|          | 0.00/456k [00:00<?, ?B/s]"
      ]
     },
     "metadata": {},
     "output_type": "display_data"
    },
    {
     "data": {
      "application/vnd.jupyter.widget-view+json": {
       "model_id": "4e7a3ee8af7d4421ab4fec9d8d91badc",
       "version_major": 2,
       "version_minor": 0
      },
      "text/plain": [
       "tokenizer.json:   0%|          | 0.00/1.36M [00:00<?, ?B/s]"
      ]
     },
     "metadata": {},
     "output_type": "display_data"
    },
    {
     "name": "stderr",
     "output_type": "stream",
     "text": [
      "Device set to use cpu\n",
      "Setting `pad_token_id` to `eos_token_id`:50256 for open-end generation.\n"
     ]
    }
   ],
   "source": [
    "# Instantiate the pipeline for generating text\n",
    "generator = pipeline(model='gpt2')\n",
    "\n",
    "# Pre-defined prompt\n",
    "prompt = \"New for this winter season, a lovely dress that\"\n",
    "\n",
    "# Use the prompt as input to the generator to return output.\n",
    "output = generator(prompt, num_return_sequences=2, return_full_text=True)"
   ]
  },
  {
   "cell_type": "code",
   "execution_count": 65,
   "id": "5dc4a928-12b6-411a-a010-e701fd01a277",
   "metadata": {
    "executionCancelledAt": null,
    "executionTime": null,
    "lastExecutedAt": null,
    "lastExecutedByKernel": null,
    "lastScheduledRunId": null,
    "lastSuccessfullyExecutedCode": null,
    "outputsMetadata": {
     "0": {
      "height": 80,
      "type": "stream"
     }
    }
   },
   "outputs": [
    {
     "name": "stdout",
     "output_type": "stream",
     "text": [
      "New for this winter season, a lovely dress that is not too revealing and an extremely simple but stylish gift for you or your family.\n",
      "\n",
      "\n",
      "These are the perfect dress for Christmas, because you'll have a Christmas gift for everyone. No need to\n"
     ]
    }
   ],
   "source": [
    "# Print the generated text.\n",
    "print(output[0]['generated_text'])"
   ]
  },
  {
   "cell_type": "code",
   "execution_count": null,
   "id": "efbfba86-7015-4a71-adb0-230a25831fb7",
   "metadata": {},
   "outputs": [],
   "source": []
  }
 ],
 "metadata": {
  "colab": {
   "name": "Welcome to DataCamp Workspaces.ipynb",
   "provenance": []
  },
  "kernelspec": {
   "display_name": "Python 3 (ipykernel)",
   "language": "python",
   "name": "python3"
  },
  "language_info": {
   "codemirror_mode": {
    "name": "ipython",
    "version": 3
   },
   "file_extension": ".py",
   "mimetype": "text/x-python",
   "name": "python",
   "nbconvert_exporter": "python",
   "pygments_lexer": "ipython3",
   "version": "3.11.7"
  }
 },
 "nbformat": 4,
 "nbformat_minor": 5
}
